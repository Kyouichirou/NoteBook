{
 "cells": [
  {
   "cell_type": "markdown",
   "id": "c7322ef2",
   "metadata": {},
   "source": [
    "# time & datetime"
   ]
  },
  {
   "cell_type": "code",
   "execution_count": 2,
   "id": "aa532315",
   "metadata": {},
   "outputs": [],
   "source": [
    "import time"
   ]
  },
  {
   "cell_type": "code",
   "execution_count": 4,
   "id": "b01377a2",
   "metadata": {},
   "outputs": [],
   "source": [
    "import datetime"
   ]
  },
  {
   "cell_type": "code",
   "execution_count": 32,
   "id": "7fc29942",
   "metadata": {},
   "outputs": [],
   "source": [
    "import os"
   ]
  },
  {
   "cell_type": "markdown",
   "id": "6bdadf9f",
   "metadata": {},
   "source": [
    "## ISO 8601\n",
    "\n",
    "> 数据存储和交换形式·信息交换·日期和时间的表示方法\n",
    "\n",
    "- 日期和时间值按从最大到最小的时间单位排序：年，月（或周），日，小时，分钟，秒和秒的分数。因此，表示的字典顺序对应于时间顺序，除了涉及负年份的日期表示。这允许日期自然地由例如文件系统排序。\n",
    "\n",
    "- 每个日期和时间值都有一个固定的位数，必须用前导零填充。\n",
    "\n",
    "- 日期时间表示只能有数字或少数特殊字符组成（如“ - ”，“：”，“T”，“W”和“Z”），不允许出现地方写法，如“1月”或“星期四”等。\n",
    "\n",
    "- 表示可以采用两种格式之一完成 - 具有最少数量分隔符的基本格式或添加了分隔符的扩展格式以增强人类可读性。该标准指出“应以纯文本形式避免使用基本格式”。日期值（年，月，周和日）之间使用的分隔符是连字符，而冒号用作时间值（小时，分钟和秒）之间的分隔符。例如，2009年第1个月的第6天可以以扩展格式写为“2009-01-06”，或者以基本格式简称为“20090106”而不含糊不清。\n",
    "\n",
    "- 为了降低准确度，可以从任何日期和时间表示中删除任意数量的值，但是从最小到最重要的顺序。例如，“2004-05”是有效的ISO 8601日期，表示2004年5月（第5个月）。此格式永远不会代表2004年未指定月份的第5天，也不代表从2004年进入2005年。\n",
    "\n",
    "- ISO 8601使用24小时制。HH：MM：SS.SSS，HH：MM：SS，HH：MM，HH为合规的时间格式。\n",
    "\n",
    "- 如果没有指定与UTC关系则假定是本地时间，为安全的跨时区通讯，应制定与UTC关系。若时间是UTC则在时间后面加Z表示，如“09:30UTC”表示为09：30Z”或“0930Z”。其它时区时间则将与UTC的偏移量附加到时间后面，格式为±\\[hh\\]：\\[mm\\]，±\\[hh\\] \\[mm\\]或±\\[hh\\]，如“北京时间09:30”表示为\"09:30+08:00”或“ 09:30+0800 ” 或“ 09:30+08 ”。\n",
    "\n",
    "- 用字母T分割日期和时间。如20180703T224426Z或2018-07-03T22:44:26Z 。\n",
    "\n",
    "**常见的形态**\n",
    "\n",
    "- ISODate(\"2022-12-30T00:18:18.000Z\"), MongoDB中存储日期/时间的方式\n",
    "\n",
    "- 20040503T173008+08\n",
    "\n",
    "- 2004-05-03T17:30:08+08:00\n",
    "\n",
    "- 2020-01-12T15:17:21\n",
    "\n",
    "时间中包含的\"T\"用于间隔开日期和时间两个部分\n",
    "\n",
    "\"Z\"则用于标注时间, 假如\"Z\"后没有任何内容则表示对应的时区为\"UTC00:00\"\n",
    "\n",
    "> 北京时间：2020-01-14 00:00:00对应的国际标准时间格式为：2020-01-13T16:00:00.000Z"
   ]
  },
  {
   "cell_type": "markdown",
   "id": "0c7b6eb6",
   "metadata": {},
   "source": [
    "### 格林威治时间\n",
    "\n",
    "> 十七世纪，格林威治皇家天文台为了海上霸权的扩张计画而进行天体观测。到了1884年决定以通过格林威治的子午线作为划分地球东西两半球的经度零度。观测所门口墙上有一个标志24小时的时钟，显示当下的时间，对全球而言，这里所设定的时间是世界时间参考点，全球都以格林威治的时间作为标准来设定时间，这就是我们耳熟能详的「格林威治标准时间」(Greenwich Mean Time，简称G.M.T.)的由来。\n",
    "\n",
    "> Tue, 12 Jun 2012 14:03:10 GMT"
   ]
  },
  {
   "cell_type": "markdown",
   "id": "31ff235b",
   "metadata": {},
   "source": [
    "### UTC时间\n",
    "\n",
    "> UTC指的是Coordinated Universal Time－ 世界协调时间（又称世界标准时间、世界统一时间），是经过平均太阳时(以格林威治时间GMT为准)、地轴运动修正后的新时标以及以「秒」为单位的国际原子时所综合精算而成的时间，计算过程相当严谨精密，因此若以「世界标准时间」的角度来说，UTC比GMT来得更加精准。其误差值必须保持在0.9秒以内，若大于0.9秒则由位于巴黎的国际地球自转事务中央局发布闰秒，使UTC与地球自转周期一致。所以基本上UTC的本质强调的是比GMT更为精确的世界时间标准，不过对于现行表款来说，GMT与UTC的功能与精确度是没有差别的。UTC时间+时区偏移量就是当地时间，如北京东8区（GMT+8），则UTC时间+08小时就表示北京时间。\n",
    "\n",
    "简单而言, 可以人为`UTC00:00`等价于`GMT00:00`, 只是表示的方式的差异.(不考虑精度的情况下)\n",
    "\n",
    "> 2023-02-13 17:10:27 UTC+0000"
   ]
  },
  {
   "cell_type": "markdown",
   "id": "53b4c710",
   "metadata": {},
   "source": [
    "### 夏令时\n",
    "\n",
    "> 夏令时， 「夏日节约时间」Daylight Saving Time（简称D.S.T.），是指在夏天太阳升起的比较早时，将时钟拨快一小时，以提早日光的使用，夏天过去再将时钟调慢一小时，在英国则称为夏令时间(Summer Time)。这个构想于1784年由美国班杰明·富兰克林提出来，1915年德国成为第一个正式实施夏令日光节约时间的国家，以削减灯光照明和耗电开支。\n",
    "\n",
    "目前全球各大互联网厂商多在推动夏令时的废除.(废除已成定局, 只是时间的问题)"
   ]
  },
  {
   "cell_type": "markdown",
   "id": "725b7ba4",
   "metadata": {},
   "source": [
    "## time"
   ]
  },
  {
   "cell_type": "markdown",
   "id": "fb4006c9",
   "metadata": {},
   "source": [
    "### 时间元组\n",
    "\n",
    "| 序号 | 字段         | 值                                   |\n",
    "| :--- | :----------- | :----------------------------------- |\n",
    "| 0    | 4位数年      | 2008                                 |\n",
    "| 1    | 月           | 1 到 12                              |\n",
    "| 2    | 日           | 1到31                                |\n",
    "| 3    | 小时         | 0到23                                |\n",
    "| 4    | 分钟         | 0到59                                |\n",
    "| 5    | 秒           | 0到61 (60或61 是闰秒)                |\n",
    "| 6    | 一周的第几日 | 0到6 (0是周一)                       |\n",
    "| 7    | 一年的第几日 | 1到366 (儒略历)                      |\n",
    "| 8    | 夏令时       | -1, 0, 1, -1是决定是否为夏令时的旗帜 |\n",
    "\n",
    "\n",
    "| 序号 | 属性     | 值                                   |\n",
    "| :--- | :------- | :----------------------------------- |\n",
    "| 0    | tm_year  | 2008                                 |\n",
    "| 1    | tm_mon   | 1 到 12                              |\n",
    "| 2    | tm_mday  | 1 到 31                              |\n",
    "| 3    | tm_hour  | 0 到 23                              |\n",
    "| 4    | tm_min   | 0 到 59                              |\n",
    "| 5    | tm_sec   | 0 到 61 (60或61 是闰秒)              |\n",
    "| 6    | tm_wday  | 0到6 (0是周一)                       |\n",
    "| 7    | tm_yday  | 1 到 366(儒略历)                     |\n",
    "| 8    | tm_isdst | -1, 0, 1, -1是决定是否为夏令时的旗帜 |"
   ]
  },
  {
   "cell_type": "markdown",
   "id": "bcf16fa9",
   "metadata": {},
   "source": [
    "### time的方法和属性"
   ]
  },
  {
   "cell_type": "markdown",
   "id": "4e1f5984",
   "metadata": {},
   "source": [
    "> time gmtime() 函数将一个时间戳转换为UTC时区（0时区）的struct_time，可选的参数sec表示从1970-1-1以来的秒数。其默认值为time.time()，函数返回time.struct_time类型的对象。（struct_time是在time模块中定义的表示时间的对象）。"
   ]
  },
  {
   "cell_type": "code",
   "execution_count": 5,
   "id": "f30315fa",
   "metadata": {
    "scrolled": true
   },
   "outputs": [
    {
     "data": {
      "text/plain": [
       "time.struct_time(tm_year=2023, tm_mon=1, tm_mday=3, tm_hour=1, tm_min=56, tm_sec=6, tm_wday=1, tm_yday=3, tm_isdst=0)"
      ]
     },
     "execution_count": 5,
     "metadata": {},
     "output_type": "execute_result"
    }
   ],
   "source": [
    "time.gmtime()"
   ]
  },
  {
   "cell_type": "code",
   "execution_count": 34,
   "id": "9579fa57",
   "metadata": {},
   "outputs": [
    {
     "data": {
      "text/plain": [
       "'Tue Jan  3 02:22:59 2023'"
      ]
     },
     "execution_count": 34,
     "metadata": {},
     "output_type": "execute_result"
    }
   ],
   "source": [
    "# 获得当前的GMT时间\n",
    "time.asctime(time.gmtime(time.time()))"
   ]
  },
  {
   "cell_type": "markdown",
   "id": "53c6c20f",
   "metadata": {},
   "source": [
    "> ctime() 函数把一个时间戳（按秒计算的浮点数）转化为time.asctime()的形式。 如果参数未给或者为None的时候，将会默认time.time()为参数。它的作用相当于 asctime(localtime(secs))。"
   ]
  },
  {
   "cell_type": "code",
   "execution_count": 6,
   "id": "ba41edce",
   "metadata": {},
   "outputs": [
    {
     "data": {
      "text/plain": [
       "'Tue Jan  3 09:56:44 2023'"
      ]
     },
     "execution_count": 6,
     "metadata": {},
     "output_type": "execute_result"
    }
   ],
   "source": [
    "time.ctime()"
   ]
  },
  {
   "cell_type": "code",
   "execution_count": 7,
   "id": "91586709",
   "metadata": {},
   "outputs": [
    {
     "data": {
      "text/plain": [
       "'Tue Jan  3 09:56:53 2023'"
      ]
     },
     "execution_count": 7,
     "metadata": {},
     "output_type": "execute_result"
    }
   ],
   "source": [
    "time.asctime()"
   ]
  },
  {
   "cell_type": "code",
   "execution_count": 8,
   "id": "702656d0",
   "metadata": {},
   "outputs": [
    {
     "data": {
      "text/plain": [
       "1672711188.664625"
      ]
     },
     "execution_count": 8,
     "metadata": {},
     "output_type": "execute_result"
    }
   ],
   "source": [
    "# 时间戳\n",
    "time.time()"
   ]
  },
  {
   "cell_type": "code",
   "execution_count": 9,
   "id": "430d1c54",
   "metadata": {
    "scrolled": true
   },
   "outputs": [
    {
     "data": {
      "text/plain": [
       "time.struct_time(tm_year=2023, tm_mon=1, tm_mday=3, tm_hour=9, tm_min=59, tm_sec=58, tm_wday=1, tm_yday=3, tm_isdst=0)"
      ]
     },
     "execution_count": 9,
     "metadata": {},
     "output_type": "execute_result"
    }
   ],
   "source": [
    "time.localtime()"
   ]
  },
  {
   "cell_type": "code",
   "execution_count": 13,
   "id": "4106393b",
   "metadata": {
    "scrolled": true
   },
   "outputs": [
    {
     "data": {
      "text/plain": [
       "'Tue Jan  3 10:02:33 2023'"
      ]
     },
     "execution_count": 13,
     "metadata": {},
     "output_type": "execute_result"
    }
   ],
   "source": [
    "time.asctime(time.localtime())"
   ]
  },
  {
   "cell_type": "markdown",
   "id": "61d235e9",
   "metadata": {},
   "source": [
    "altzone() 函数返回格林威治西部的夏令时地区的偏移秒数"
   ]
  },
  {
   "cell_type": "code",
   "execution_count": 11,
   "id": "bb1685ae",
   "metadata": {},
   "outputs": [
    {
     "data": {
      "text/plain": [
       "-32400"
      ]
     },
     "execution_count": 11,
     "metadata": {},
     "output_type": "execute_result"
    }
   ],
   "source": [
    "time.altzone"
   ]
  },
  {
   "cell_type": "code",
   "execution_count": 12,
   "id": "fec3c17d",
   "metadata": {
    "scrolled": true
   },
   "outputs": [
    {
     "data": {
      "text/plain": [
       "9.0"
      ]
     },
     "execution_count": 12,
     "metadata": {},
     "output_type": "execute_result"
    }
   ],
   "source": [
    "32400 / 60 / 60"
   ]
  },
  {
   "cell_type": "code",
   "execution_count": 29,
   "id": "8a0bcb81",
   "metadata": {
    "scrolled": true
   },
   "outputs": [
    {
     "data": {
      "text/plain": [
       "-28800"
      ]
     },
     "execution_count": 29,
     "metadata": {},
     "output_type": "execute_result"
    }
   ],
   "source": [
    "time.timezone"
   ]
  },
  {
   "cell_type": "code",
   "execution_count": 30,
   "id": "1253ac35",
   "metadata": {},
   "outputs": [
    {
     "data": {
      "text/plain": [
       "8.0"
      ]
     },
     "execution_count": 30,
     "metadata": {},
     "output_type": "execute_result"
    }
   ],
   "source": [
    "28800 / 60 / 60"
   ]
  },
  {
   "cell_type": "markdown",
   "id": "eeb0ac9b",
   "metadata": {},
   "source": [
    "字符串和日期/时间的转换"
   ]
  },
  {
   "cell_type": "code",
   "execution_count": 14,
   "id": "8b746752",
   "metadata": {
    "scrolled": true
   },
   "outputs": [
    {
     "data": {
      "text/plain": [
       "'2023-01-03 10:03:00'"
      ]
     },
     "execution_count": 14,
     "metadata": {},
     "output_type": "execute_result"
    }
   ],
   "source": [
    "time.strftime(\"%Y-%m-%d %H:%M:%S\", time.localtime()) "
   ]
  },
  {
   "cell_type": "code",
   "execution_count": 23,
   "id": "5e851712",
   "metadata": {},
   "outputs": [
    {
     "data": {
      "text/plain": [
       "'2023-01-03 10:14:32'"
      ]
     },
     "execution_count": 23,
     "metadata": {},
     "output_type": "execute_result"
    }
   ],
   "source": [
    "datetime.datetime.strftime(datetime.datetime.now(), \"%Y-%m-%d %H:%M:%S\")"
   ]
  },
  {
   "cell_type": "code",
   "execution_count": 20,
   "id": "60d93c78",
   "metadata": {},
   "outputs": [
    {
     "data": {
      "text/plain": [
       "time.struct_time(tm_year=2000, tm_mon=11, tm_mday=30, tm_hour=0, tm_min=0, tm_sec=0, tm_wday=3, tm_yday=335, tm_isdst=-1)"
      ]
     },
     "execution_count": 20,
     "metadata": {},
     "output_type": "execute_result"
    }
   ],
   "source": [
    "time.strptime(\"30 Nov 00\", \"%d %b %y\")"
   ]
  },
  {
   "cell_type": "code",
   "execution_count": 21,
   "id": "8ce29825",
   "metadata": {},
   "outputs": [
    {
     "data": {
      "text/plain": [
       "datetime.datetime(2000, 11, 30, 0, 0)"
      ]
     },
     "execution_count": 21,
     "metadata": {},
     "output_type": "execute_result"
    }
   ],
   "source": [
    "# 注意二者的差异\n",
    "datetime.datetime.strptime(\"30 Nov 00\", \"%d %b %y\")"
   ]
  },
  {
   "cell_type": "markdown",
   "id": "a0aa0e9c",
   "metadata": {},
   "source": [
    " > mktime() 函数执行与gmtime(), localtime()相反的操作，它接收struct_time对象作为参数，返回用秒数来表示时间的浮点数。"
   ]
  },
  {
   "cell_type": "code",
   "execution_count": 15,
   "id": "67411bd9",
   "metadata": {},
   "outputs": [],
   "source": [
    "t = (2009, 2, 17, 17, 3, 38, 1, 48, 0)\n",
    "\n",
    "secs = time.mktime( t )"
   ]
  },
  {
   "cell_type": "code",
   "execution_count": 16,
   "id": "6e633a88",
   "metadata": {
    "scrolled": true
   },
   "outputs": [
    {
     "data": {
      "text/plain": [
       "'Tue Feb 17 17:03:38 2009'"
      ]
     },
     "execution_count": 16,
     "metadata": {},
     "output_type": "execute_result"
    }
   ],
   "source": [
    "time.asctime(time.localtime(secs))"
   ]
  },
  {
   "cell_type": "markdown",
   "id": "5de4e903",
   "metadata": {},
   "source": [
    "更高精度的计时"
   ]
  },
  {
   "cell_type": "code",
   "execution_count": 17,
   "id": "e2301697",
   "metadata": {},
   "outputs": [
    {
     "data": {
      "text/plain": [
       "6.453125"
      ]
     },
     "execution_count": 17,
     "metadata": {},
     "output_type": "execute_result"
    }
   ],
   "source": [
    "time.process_time()"
   ]
  },
  {
   "cell_type": "code",
   "execution_count": 18,
   "id": "ac147716",
   "metadata": {},
   "outputs": [
    {
     "data": {
      "text/plain": [
       "2245.7962368"
      ]
     },
     "execution_count": 18,
     "metadata": {},
     "output_type": "execute_result"
    }
   ],
   "source": [
    "time.perf_counter()"
   ]
  },
  {
   "cell_type": "code",
   "execution_count": 19,
   "id": "7db9bd1d",
   "metadata": {},
   "outputs": [
    {
     "data": {
      "text/plain": [
       "2272670931500"
      ]
     },
     "execution_count": 19,
     "metadata": {},
     "output_type": "execute_result"
    }
   ],
   "source": [
    "time.perf_counter_ns()"
   ]
  },
  {
   "cell_type": "code",
   "execution_count": 31,
   "id": "fdde433d",
   "metadata": {},
   "outputs": [
    {
     "data": {
      "text/plain": [
       "0"
      ]
     },
     "execution_count": 31,
     "metadata": {},
     "output_type": "execute_result"
    }
   ],
   "source": [
    "# 如果定义了DST时区，则为非零\n",
    "time.daylight"
   ]
  },
  {
   "cell_type": "markdown",
   "id": "51f7e54d",
   "metadata": {},
   "source": [
    "## datetime\n",
    "\n",
    "- class datetime.date\n",
    "  一个理想化的简单型日期，它假设当今的公历在过去和未来永远有效。 属性: year, month, and day。\n",
    "\n",
    "- class datetime.time\n",
    "  一个独立于任何特定日期的理想化时间，它假设每一天都恰好等于 24*60*60 秒。 （这里没有“闰秒”的概念。） 包含属性: hour, minute, second, microsecond 和 tzinfo。\n",
    "\n",
    "- class datetime.datetime\n",
    "  日期和时间的结合。属性：year, month, day, hour, minute, second, microsecond, and tzinfo.\n",
    "\n",
    "- class datetime.timedelta\n",
    "  表示两个 date 对象或 time 对象，或者 datetime 对象之间的时间间隔，精确到微秒。\n",
    "\n",
    "- class datetime.tzinfo\n",
    "  一个描述时区信息对象的抽象基类。 用来给 datetime 和 time 类提供自定义的时间调整概念（例如处理时区和/或夏令时）。\n",
    "\n",
    "- class datetime.timezone\n",
    "  一个实现了 tzinfo 抽象基类的子类，用于表示相对于 世界标准时间（UTC）的偏移量。"
   ]
  },
  {
   "cell_type": "code",
   "execution_count": 35,
   "id": "d2f513c4",
   "metadata": {},
   "outputs": [],
   "source": [
    "from datetime import date"
   ]
  },
  {
   "cell_type": "code",
   "execution_count": 36,
   "id": "df63fbe8",
   "metadata": {},
   "outputs": [],
   "source": [
    "from datetime import time as dtime"
   ]
  },
  {
   "cell_type": "code",
   "execution_count": 37,
   "id": "e78fb550",
   "metadata": {},
   "outputs": [],
   "source": [
    "from datetime import datetime as detime"
   ]
  },
  {
   "cell_type": "code",
   "execution_count": 38,
   "id": "1472b3d2",
   "metadata": {},
   "outputs": [],
   "source": [
    "from datetime import timezone"
   ]
  },
  {
   "cell_type": "code",
   "execution_count": 39,
   "id": "6ee5c869",
   "metadata": {},
   "outputs": [],
   "source": [
    "from datetime import timedelta"
   ]
  },
  {
   "cell_type": "markdown",
   "id": "483ae29d",
   "metadata": {},
   "source": [
    "时间的运算\n",
    "\n",
    "timedelta(days=0, seconds=0, microseconds=0, milliseconds=0, minutes=0, hours=0, weeks=0)"
   ]
  },
  {
   "cell_type": "code",
   "execution_count": 40,
   "id": "1cf9f87f",
   "metadata": {},
   "outputs": [
    {
     "data": {
      "text/plain": [
       "datetime.datetime(2023, 1, 3, 20, 31, 57, 37663)"
      ]
     },
     "execution_count": 40,
     "metadata": {},
     "output_type": "execute_result"
    }
   ],
   "source": [
    "detime.now() + timedelta(hours=10)"
   ]
  },
  {
   "cell_type": "code",
   "execution_count": 41,
   "id": "f68de684",
   "metadata": {},
   "outputs": [
    {
     "data": {
      "text/plain": [
       "datetime.timedelta(microseconds=1)"
      ]
     },
     "execution_count": 41,
     "metadata": {},
     "output_type": "execute_result"
    }
   ],
   "source": [
    "# 分辨率\n",
    "detime.resolution"
   ]
  },
  {
   "cell_type": "code",
   "execution_count": 42,
   "id": "c45f6224",
   "metadata": {},
   "outputs": [
    {
     "data": {
      "text/plain": [
       "'Tue Jan  3 10:35:09 2023'"
      ]
     },
     "execution_count": 42,
     "metadata": {},
     "output_type": "execute_result"
    }
   ],
   "source": [
    "detime.ctime(detime.now())"
   ]
  },
  {
   "cell_type": "code",
   "execution_count": 43,
   "id": "4a0f94e3",
   "metadata": {},
   "outputs": [
    {
     "data": {
      "text/plain": [
       "datetime.datetime(2023, 1, 3, 10, 35, 17, 491409)"
      ]
     },
     "execution_count": 43,
     "metadata": {},
     "output_type": "execute_result"
    }
   ],
   "source": [
    "detime.now()"
   ]
  },
  {
   "cell_type": "code",
   "execution_count": 45,
   "id": "ab550796",
   "metadata": {},
   "outputs": [],
   "source": [
    "now = detime.now()"
   ]
  },
  {
   "cell_type": "code",
   "execution_count": 46,
   "id": "3b283d29",
   "metadata": {},
   "outputs": [
    {
     "data": {
      "text/plain": [
       "datetime.datetime(2023, 1, 3, 10, 37, 37, 620659)"
      ]
     },
     "execution_count": 46,
     "metadata": {},
     "output_type": "execute_result"
    }
   ],
   "source": [
    "now"
   ]
  },
  {
   "cell_type": "code",
   "execution_count": 48,
   "id": "39928f5f",
   "metadata": {},
   "outputs": [
    {
     "data": {
      "text/plain": [
       "1672713457.620659"
      ]
     },
     "execution_count": 48,
     "metadata": {},
     "output_type": "execute_result"
    }
   ],
   "source": [
    "now.timestamp()"
   ]
  },
  {
   "cell_type": "code",
   "execution_count": 49,
   "id": "a859bd7b",
   "metadata": {},
   "outputs": [
    {
     "data": {
      "text/plain": [
       "1"
      ]
     },
     "execution_count": 49,
     "metadata": {},
     "output_type": "execute_result"
    }
   ],
   "source": [
    "now.weekday()"
   ]
  },
  {
   "cell_type": "code",
   "execution_count": 50,
   "id": "8691bc8c",
   "metadata": {},
   "outputs": [
    {
     "data": {
      "text/plain": [
       "2"
      ]
     },
     "execution_count": 50,
     "metadata": {},
     "output_type": "execute_result"
    }
   ],
   "source": [
    "now.isoweekday()"
   ]
  },
  {
   "cell_type": "code",
   "execution_count": 52,
   "id": "2a050f47",
   "metadata": {},
   "outputs": [
    {
     "data": {
      "text/plain": [
       "datetime.date(2023, 1, 3)"
      ]
     },
     "execution_count": 52,
     "metadata": {},
     "output_type": "execute_result"
    }
   ],
   "source": [
    "now.date()"
   ]
  },
  {
   "cell_type": "code",
   "execution_count": 54,
   "id": "4231faba",
   "metadata": {},
   "outputs": [
    {
     "data": {
      "text/plain": [
       "1"
      ]
     },
     "execution_count": 54,
     "metadata": {},
     "output_type": "execute_result"
    }
   ],
   "source": [
    "now.month"
   ]
  },
  {
   "cell_type": "code",
   "execution_count": 56,
   "id": "696d0db3",
   "metadata": {},
   "outputs": [],
   "source": [
    "now.tzinfo"
   ]
  },
  {
   "cell_type": "code",
   "execution_count": 59,
   "id": "463dcda4",
   "metadata": {},
   "outputs": [],
   "source": [
    "now.tzname()"
   ]
  },
  {
   "cell_type": "code",
   "execution_count": 60,
   "id": "2c5258ac",
   "metadata": {},
   "outputs": [
    {
     "data": {
      "text/plain": [
       "datetime.datetime(2023, 1, 3, 10, 41, 12, 202443)"
      ]
     },
     "execution_count": 60,
     "metadata": {},
     "output_type": "execute_result"
    }
   ],
   "source": [
    "now.today()"
   ]
  },
  {
   "cell_type": "code",
   "execution_count": 61,
   "id": "2aec92e2",
   "metadata": {},
   "outputs": [
    {
     "data": {
      "text/plain": [
       "datetime.date(2021, 12, 8)"
      ]
     },
     "execution_count": 61,
     "metadata": {},
     "output_type": "execute_result"
    }
   ],
   "source": [
    "date(2021,12,8)"
   ]
  },
  {
   "cell_type": "code",
   "execution_count": 67,
   "id": "8c3fa3bb",
   "metadata": {
    "scrolled": true
   },
   "outputs": [
    {
     "data": {
      "text/plain": [
       "datetime.timedelta(microseconds=1)"
      ]
     },
     "execution_count": 67,
     "metadata": {},
     "output_type": "execute_result"
    }
   ],
   "source": [
    "dtime.resolution"
   ]
  },
  {
   "cell_type": "code",
   "execution_count": 68,
   "id": "5157d840",
   "metadata": {},
   "outputs": [
    {
     "data": {
      "text/plain": [
       "time.struct_time(tm_year=2021, tm_mon=12, tm_mday=8, tm_hour=0, tm_min=0, tm_sec=0, tm_wday=2, tm_yday=342, tm_isdst=-1)"
      ]
     },
     "execution_count": 68,
     "metadata": {},
     "output_type": "execute_result"
    }
   ],
   "source": [
    "date(2021,12,8).timetuple()"
   ]
  },
  {
   "cell_type": "code",
   "execution_count": 69,
   "id": "64bc1965",
   "metadata": {},
   "outputs": [
    {
     "data": {
      "text/plain": [
       "datetime.date(2023, 10, 27)"
      ]
     },
     "execution_count": 69,
     "metadata": {},
     "output_type": "execute_result"
    }
   ],
   "source": [
    "date.fromtimestamp(1698382719)"
   ]
  },
  {
   "cell_type": "code",
   "execution_count": 71,
   "id": "f82c0cf8",
   "metadata": {},
   "outputs": [
    {
     "data": {
      "text/plain": [
       "datetime.timezone(datetime.timedelta(seconds=28800))"
      ]
     },
     "execution_count": 71,
     "metadata": {},
     "output_type": "execute_result"
    }
   ],
   "source": [
    "# 时区\n",
    "timezone(timedelta(hours=8))"
   ]
  },
  {
   "cell_type": "code",
   "execution_count": 77,
   "id": "ecf6553f",
   "metadata": {},
   "outputs": [],
   "source": [
    "# 为时间增加上时区的信息\n",
    "tz_now = now.replace(tzinfo=timezone(timedelta(hours=8)))"
   ]
  },
  {
   "cell_type": "code",
   "execution_count": 79,
   "id": "09f278c7",
   "metadata": {},
   "outputs": [
    {
     "data": {
      "text/plain": [
       "datetime.timezone(datetime.timedelta(seconds=28800))"
      ]
     },
     "execution_count": 79,
     "metadata": {},
     "output_type": "execute_result"
    }
   ],
   "source": [
    "tz_now.tzinfo"
   ]
  },
  {
   "cell_type": "code",
   "execution_count": 81,
   "id": "6a6f3114",
   "metadata": {},
   "outputs": [
    {
     "data": {
      "text/plain": [
       "'UTC+08:00'"
      ]
     },
     "execution_count": 81,
     "metadata": {},
     "output_type": "execute_result"
    }
   ],
   "source": [
    "tz_now.tzname()"
   ]
  },
  {
   "cell_type": "code",
   "execution_count": 82,
   "id": "bd802142",
   "metadata": {},
   "outputs": [],
   "source": [
    "utc_nwo = tz_now.replace(tzinfo=timezone.utc)"
   ]
  },
  {
   "cell_type": "code",
   "execution_count": 83,
   "id": "33b8c759",
   "metadata": {},
   "outputs": [
    {
     "data": {
      "text/plain": [
       "datetime.datetime(2023, 1, 3, 10, 37, 37, 620659, tzinfo=datetime.timezone.utc)"
      ]
     },
     "execution_count": 83,
     "metadata": {},
     "output_type": "execute_result"
    }
   ],
   "source": [
    "utc_nwo"
   ]
  },
  {
   "cell_type": "code",
   "execution_count": 84,
   "id": "1125020e",
   "metadata": {},
   "outputs": [
    {
     "data": {
      "text/plain": [
       "datetime.timezone.utc"
      ]
     },
     "execution_count": 84,
     "metadata": {},
     "output_type": "execute_result"
    }
   ],
   "source": [
    "utc_nwo.tzinfo"
   ]
  }
 ],
 "metadata": {
  "hide_input": false,
  "kernelspec": {
   "display_name": "Python 3 (ipykernel)",
   "language": "python",
   "name": "python3"
  },
  "language_info": {
   "codemirror_mode": {
    "name": "ipython",
    "version": 3
   },
   "file_extension": ".py",
   "mimetype": "text/x-python",
   "name": "python",
   "nbconvert_exporter": "python",
   "pygments_lexer": "ipython3",
   "version": "3.9.12"
  },
  "toc": {
   "base_numbering": 1,
   "nav_menu": {},
   "number_sections": true,
   "sideBar": true,
   "skip_h1_title": false,
   "title_cell": "Table of Contents",
   "title_sidebar": "Contents",
   "toc_cell": false,
   "toc_position": {},
   "toc_section_display": true,
   "toc_window_display": true
  }
 },
 "nbformat": 4,
 "nbformat_minor": 5
}
