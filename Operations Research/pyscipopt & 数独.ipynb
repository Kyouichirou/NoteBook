{
 "cells": [
  {
   "cell_type": "markdown",
   "metadata": {},
   "source": [
    "# pyscipopt & sudoku\n",
    "\n",
    "[![](https://pic.imgdb.cn/item/6532337cc458853aef5a44b3.png)](https://pic.imgdb.cn/item/6532337cc458853aef5a44b3.png)\n",
    "\n",
    "(*上图: 号称难度系数最高数独*)\n",
    "\n",
    "数独是一个非常有趣的数学游戏, 最为常见的形式为九宫格: **9 x 9**\n",
    "\n",
    "- 每个格子填入 1 - 9范围的数字, 每个格子填入的数字都不相同\n",
    "- 每个小宫格 3 x 3范围填入, 遵守上述规则\n",
    "- 行列之间的数字填入, 遵守上述规则\n",
    "\n",
    "数独这个问题的解法非常巧妙, 这里参考了[通过整数规划求解数独谜题：基于问题 - MATLAB & Simulink - MathWorks 中国](https://ww2.mathworks.cn/help/optim/ug/sudoku-puzzles-problem-based.html)提供的思路.\n",
    "\n",
    "> 关键思路是将谜题从 9×9 正方形网格转换为一个由二元值（0 或 1）组成的 9×9×9 立方数组。将这个立方数组想象成由 9 个正方形网络上下堆叠在一起。顶部网格是数组的第一个正方形层，只要解或提示包含整数 1，则该层对应位置就为 1。只要解或提示包含整数 2，第二层对应位置就为 1。只要解或提示包含整数 9，第九层对应位置就为 1。\n",
    "\n",
    "![img](https://pic3.zhimg.com/80/v2-2f23f1294d83604a768c45f9e26c097a_720w.webp)\n",
    "\n",
    "(*图源*: [数学建模代码实战训练-5：数独里的整数线规模型构造分析 - 知乎](https://zhuanlan.zhihu.com/p/362008314), 作者版权所有)\n",
    "\n",
    "以整数规划为视角创建数学模型:\n",
    "$$\n",
    "\\\\\n",
    "\\begin{aligned}\n",
    "\\text{min} & \\quad 0                        &&                                       &&(1)\\\\ \n",
    "\\text{s.t.} & \\quad \\sum_{k=1}^{9}x_{r,c,k} = 1,\\quad &&\\forall r,c = 1,\\dots,9,       &&(2)\\\\ \n",
    "& \\quad \\sum_{r=1}^{9}x_{r,c,k}=1,  \\quad &&\\forall c,k = 1,\\dots,9,                   &&(3)\\\\  \n",
    "& \\quad \\sum_{c=1}^{9}x_{r,c,k}=1,  \\quad &&\\forall r,k = 1,\\dots,9,                   &&(4)\\\\\n",
    "& \\quad \\sum_{r'=1}^{3}\\sum_{c'=1}^{3} x_{r'+r,c'+c,k} = 1,\\quad&&\\forall r,c \\in \\{0,3,6\\},\\ k = 1,\\dots,9,                                                                           &&(5)\\\\   \n",
    "& \\quad x_{r,c,k}=1, &&\\forall(r,c,k)\\in C,                                            &&(6)\\\\ \n",
    "& \\quad x_{r,c,k}\\in \\{0,1\\}\\quad &&\\forall r,c,k = 1,\\dots,9.                         &&(7)\n",
    "\\end{aligned} \\\\\n",
    "\\\\\n",
    "\\begin{aligned}\n",
    "&r, row, 行;\\\\\n",
    "&c, column, 列\\\\\n",
    "&k, 1 - 9的数字\\\\\n",
    "&C, 已填入数字的坐标\\\\\n",
    "\\end{aligned}\n",
    "\\\\\n",
    "\\begin{aligned}\n",
    "&(1): 目标函数, 这里不需要设置, 常数0\\\\\n",
    "&约束:\\\\\n",
    "&(2): 每个格子填入一个数字 \\\\\n",
    "&(3): 每行格子填入一个数字, 不重复 \\\\\n",
    "&(4): 每列格子填入一个数字, 不重复\\\\\n",
    "&(5): 每个小宫格内填入一个数字, 不重复\\\\\n",
    "&(6): 已经填入的格子, 其值表示为:1\\\\\n",
    "&(7): 决策变量的取值范围, 即0-1型\\\\\n",
    "\\end{aligned}\n",
    "$$"
   ]
  },
  {
   "cell_type": "code",
   "execution_count": 1,
   "metadata": {},
   "outputs": [],
   "source": [
    "import pyscipopt as opt"
   ]
  },
  {
   "cell_type": "code",
   "execution_count": 16,
   "metadata": {},
   "outputs": [],
   "source": [
    "# 创建上述数独\n",
    "\n",
    "matrix = [\n",
    "    [8, 0, 0, 0, 0, 0, 0, 0, 0],\n",
    "    [0, 0, 3, 6, 0, 0, 0, 0, 0],\n",
    "    [0, 7, 0, 0, 9, 0, 2, 0, 0],\n",
    "    [0, 5, 0, 0, 0, 7, 0, 0, 0],\n",
    "    [0, 0, 0, 0, 4, 5, 7, 0, 0],\n",
    "    [0, 0, 0, 1, 0, 0, 0, 3, 0],\n",
    "    [0, 0, 1, 0, 0, 0, 0, 6, 8],\n",
    "    [0, 0, 8, 5, 0, 0, 0, 1, 0],\n",
    "    [0, 9, 0, 0, 0, 0, 4, 0, 0]\n",
    "]"
   ]
  },
  {
   "cell_type": "code",
   "execution_count": 17,
   "metadata": {},
   "outputs": [],
   "source": [
    "# 普通参数\n",
    "\n",
    "# matrix shape\n",
    "N = 9\n",
    "# litte matrix shape\n",
    "n = 3\n",
    "# 填入的数字\n",
    "constants = [e for e in range(1, N + 1)]"
   ]
  },
  {
   "cell_type": "markdown",
   "metadata": {},
   "source": [
    "```bash\n",
    "Init docstring:\n",
    ":param problemName: name of the problem (default 'model'), 模型名称\n",
    ":param defaultPlugins: use default plugins? (default True)\n",
    ":param sourceModel: create a copy of the given Model instance (default None)\n",
    ":param origcopy: whether to call copy or copyOrig (default False), 数据复制操作相关?\n",
    ":param globalcopy: whether to create a global or a local copy (default True)\n",
    ":param enablepricing: whether to enable pricing in copy (default False)\n",
    ":param createscip: initialize the Model object and creates a SCIP instance\n",
    ":param threadsafe: False if data can be safely shared between the source and target problem, 线程安全\n",
    "```"
   ]
  },
  {
   "cell_type": "code",
   "execution_count": 18,
   "metadata": {},
   "outputs": [],
   "source": [
    "model = opt.Model(\"sudoku\")"
   ]
  },
  {
   "cell_type": "markdown",
   "metadata": {},
   "source": [
    "```bash\n",
    "model.addVar\n",
    "\n",
    "Docstring:\n",
    "Create a new variable. Default variable is non-negative and continuous. 变量, 默认是非负连续型\n",
    "\n",
    ":param name: name of the variable, generic if empty (Default value = ''), 变量名称\n",
    ":param vtype: type of the variable: 'C' continuous, 'I' integer, 'B' binary, and 'M' implicit integer, 变量类型\n",
    "(see https://www.scipopt.org/doc/html/FAQ.php#implicitinteger) (Default value = 'C'), 默认为连续型\n",
    ":param lb: lower bound of the variable, use None for -infinity (Default value = 0.0), 下界, 使用None来表示负无穷\n",
    ":param ub: upper bound of the variable, use None for +infinity (Default value = None), 上界, 使用None来表示正无穷\n",
    ":param obj: objective value of variable (Default value = 0.0), 变量默认值\n",
    ":param pricedVar: is the variable a pricing candidate? (Default value = False), 这两个参数是比较有意思的, 不确定其他的算法框架是否提供\n",
    ":param pricedVarScore: score of variable in case it is priced, the higher the better (Default value = 1.0)\n",
    "```"
   ]
  },
  {
   "cell_type": "code",
   "execution_count": 19,
   "metadata": {},
   "outputs": [],
   "source": [
    "# 创建变量, 需要 9 * 9 * 9 = 729个决策变量\n",
    "variables = {}\n",
    "for r in range(N):\n",
    "    for c in range(N):\n",
    "        for k in constants:\n",
    "            key = (r, c, k)\n",
    "            variables[key] = model.addVar(\n",
    "                name = '_'.join(str(e) for e in key),\n",
    "                # 数据类型为布尔型, 即0, 1\n",
    "                vtype = 'B'\n",
    "            )\n",
    "# 同时这里实现上述模型中的决策变量 0-1约束"
   ]
  },
  {
   "cell_type": "markdown",
   "metadata": {},
   "source": [
    "```bash\n",
    "model.addCons?\n",
    "Add a linear or nonlinear constraint., 添加线性/非线性约束\n",
    "\n",
    ":param cons: constraint object\n",
    ":param name: the name of the constraint, generic name if empty (Default value = ''), 名称\n",
    ":param initial: should the LP relaxation of constraint be in the initial LP? (Default value = True), 线性规划约束松弛变量是否初始化(通过引入松弛变量, 把原优化问题中的不等式约束转化为等式约束)\n",
    ":param separate: should the constraint be separated during LP processing? (Default value = True) 在LP处理过程中约束是否应该分离?\n",
    ":param enforce: should the constraint be enforced during node processing? (Default value = True) 在节点处理过程中是否应该强制执行约束?(\n",
    ":param check: should the constraint be checked for feasibility? (Default value = True)是否检查约束的可行性\n",
    ":param propagate: should the constraint be propagated during node processing? (Default value = True) 在节点处理过程中是否允许约束扩散\n",
    ":param local: is the constraint only valid locally?  (Default value = False) 约束仅在本地?\n",
    ":param modifiable: is the constraint modifiable (subject to column generation)? (Default value = False)约束是否可修改, 应用于列生成算法\n",
    ":param dynamic: is the constraint subject to aging? (Default value = False) 约束衰减?\n",
    ":param removable: should the relaxation be removed from the LP due to aging or cleanup? (Default value = False) 由于老化或清理，松弛物是否应从LP上去除\n",
    ":param stickingatnode: should the constraint always be kept at the node where it was added, even if it may be  moved to a more global node? (Default value = False)\n",
    ":return The added @ref scip#Constraint \"Constraint\" object.\n",
    "```"
   ]
  },
  {
   "cell_type": "code",
   "execution_count": 20,
   "metadata": {},
   "outputs": [],
   "source": [
    "# 约束1, 对已经填写了数字变量坐标添加1策略约束\n",
    "for r in range(N):\n",
    "    for c in range(N):\n",
    "        if matrix[r][c] != 0:\n",
    "            constrain = variables[r, c, matrix[r][c]] == 1\n",
    "            model.addCons(constrain)"
   ]
  },
  {
   "cell_type": "markdown",
   "metadata": {},
   "source": [
    "opt.quicksum?\n",
    "\n",
    "Docstring:\n",
    "add linear expressions and constants much faster than Python's sum\n",
    "by avoiding intermediate data structures and adding terms inplace"
   ]
  },
  {
   "cell_type": "code",
   "execution_count": 21,
   "metadata": {},
   "outputs": [],
   "source": [
    "# 约束2, 每个网格内有且只有一个数字\n",
    "for r in range(N):\n",
    "    for c in range(N):\n",
    "        constrain = opt.quicksum(variables[r, c, k] for k in constants) == 1\n",
    "        model.addCons(constrain)"
   ]
  },
  {
   "cell_type": "code",
   "execution_count": 22,
   "metadata": {},
   "outputs": [],
   "source": [
    "# 约束3, 行列约束\n",
    "for i in range(N):\n",
    "    for k in constants:\n",
    "        # 行约束\n",
    "        r_constrain = opt.quicksum(variables[i, c, k] for c in range(N)) == 1\n",
    "        model.addCons(r_constrain)\n",
    "        # 列约束\n",
    "        c_constrain = opt.quicksum(variables[r, i, k] for r in range(N)) == 1\n",
    "        model.addCons(c_constrain) "
   ]
  },
  {
   "cell_type": "code",
   "execution_count": 23,
   "metadata": {},
   "outputs": [],
   "source": [
    "# 约束4, 子宫格约束              \n",
    "for row in range(n):\n",
    "    for col in range(n):\n",
    "        for k in constants:\n",
    "            constrain = opt.quicksum(variables[r + n * row, c + n * col, k] for r in range(n) for c in range(n)) == 1\n",
    "            model.addCons(constrain)"
   ]
  },
  {
   "cell_type": "markdown",
   "metadata": {},
   "source": [
    "以上四大约束则对应着上述的数学模型的转换"
   ]
  },
  {
   "cell_type": "code",
   "execution_count": 24,
   "metadata": {},
   "outputs": [],
   "source": [
    "# 无目标函数\n",
    "model.optimize()"
   ]
  },
  {
   "cell_type": "markdown",
   "metadata": {},
   "source": [
    "model.getVal?\n",
    "\n",
    "Docstring:\n",
    "Retrieve the value of the given variable or expression in the best known solution.\n",
    "Can only be called after solving is completed.\n",
    "\n",
    ":param Expr expr: polynomial expression to query the value of\n",
    "\n",
    "Note: a variable is also an expression"
   ]
  },
  {
   "cell_type": "code",
   "execution_count": 25,
   "metadata": {},
   "outputs": [
    {
     "name": "stdout",
     "output_type": "stream",
     "text": [
      "sudoku solution:\n",
      "| 8* 1  2 | 7  5  3 | 6  4  9 |\n",
      "| 9  4  3*| 6* 8  2 | 1  7  5 |\n",
      "| 6  7* 5 | 4  9* 1 | 2* 8  3 |\n",
      "-------------------------------\n",
      "| 1  5* 4 | 2  3  7*| 8  9  6 |\n",
      "| 3  6  9 | 8  4* 5*| 7* 2  1 |\n",
      "| 2  8  7 | 1* 6  9 | 5  3* 4 |\n",
      "-------------------------------\n",
      "| 5  2  1*| 9  7  4 | 3  6* 8*|\n",
      "| 4  3  8*| 5* 2  6 | 9  1* 7 |\n",
      "| 7  9* 6 | 3  1  8 | 4* 5  2 |\n"
     ]
    }
   ],
   "source": [
    "if model.getStatus() == 'optimal':\n",
    "    print('sudoku solution:')\n",
    "    # 预先构造一个数独容器用于存放解析结果\n",
    "    solution = [[0 for _ in range(N)] for _ in range(N)]\n",
    "    for (r, c, k) in variables.keys():\n",
    "        if model.getVal(variables[r, c, k]) == 1:\n",
    "            solution[r][c] = k\n",
    "    # 绘制数独结果\n",
    "    sudo_data = (''.join(f'{\"| \" if c % 3 == 0 else \" \"}{solution[r][c]}{\" \" if matrix[r][c] == 0 else \"*\"}' for c in range(N)) + '|' + ('\\n'+ '-' * 31 if (r + 1) % 3 == 0 and r != N - 1 else '') for r in range(N))\n",
    "    print('\\n'.join(sudo_data))\n",
    "else: print('warning: no solution')"
   ]
  }
 ],
 "metadata": {
  "kernelspec": {
   "display_name": "scip_env",
   "language": "python",
   "name": "python3"
  },
  "language_info": {
   "codemirror_mode": {
    "name": "ipython",
    "version": 3
   },
   "file_extension": ".py",
   "mimetype": "text/x-python",
   "name": "python",
   "nbconvert_exporter": "python",
   "pygments_lexer": "ipython3",
   "version": "3.10.13"
  }
 },
 "nbformat": 4,
 "nbformat_minor": 2
}
