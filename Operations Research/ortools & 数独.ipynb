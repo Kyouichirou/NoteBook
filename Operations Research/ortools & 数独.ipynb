{
 "cells": [
  {
   "cell_type": "markdown",
   "metadata": {},
   "source": [
    "# ortools & 数独"
   ]
  },
  {
   "cell_type": "code",
   "execution_count": 1,
   "metadata": {},
   "outputs": [],
   "source": [
    "from ortools.linear_solver import pywraplp"
   ]
  },
  {
   "cell_type": "markdown",
   "metadata": {},
   "source": [
    "## 整数规划\n",
    "\n",
    "相应的api的执行逻辑和scip基本一致"
   ]
  },
  {
   "cell_type": "code",
   "execution_count": 7,
   "metadata": {},
   "outputs": [],
   "source": [
    "matrix = [\n",
    "    [8, 0, 0, 0, 0, 0, 0, 0, 0],\n",
    "    [0, 0, 3, 6, 0, 0, 0, 0, 0],\n",
    "    [0, 7, 0, 0, 9, 0, 2, 0, 0],\n",
    "    [0, 5, 0, 0, 0, 7, 0, 0, 0],\n",
    "    [0, 0, 0, 0, 4, 5, 7, 0, 0],\n",
    "    [0, 0, 0, 1, 0, 0, 0, 3, 0],\n",
    "    [0, 0, 1, 0, 0, 0, 0, 6, 8],\n",
    "    [0, 0, 8, 5, 0, 0, 0, 1, 0],\n",
    "    [0, 9, 0, 0, 0, 0, 4, 0, 0]\n",
    "]\n",
    "\n",
    "N = 9\n",
    "# litte matrix shape\n",
    "n = 3\n",
    "# 填入的数字\n",
    "constants = [e for e in range(1, N + 1)]"
   ]
  },
  {
   "cell_type": "code",
   "execution_count": 77,
   "metadata": {},
   "outputs": [],
   "source": [
    "# 也可以使用其他的求解器\n",
    "\n",
    "solver = pywraplp.Solver.CreateSolver('SCIP')"
   ]
  },
  {
   "cell_type": "code",
   "execution_count": 78,
   "metadata": {},
   "outputs": [],
   "source": [
    "# 操作的api基本和pyscipot一致\n",
    "\n",
    "variables = {}\n",
    "for r in range(N):\n",
    "    for c in range(N):\n",
    "        for k in constants:\n",
    "            key = (r, c, k)\n",
    "            variables[key] = solver.BoolVar(name = '_'.join(str(e) for e in key))"
   ]
  },
  {
   "cell_type": "code",
   "execution_count": 79,
   "metadata": {},
   "outputs": [],
   "source": [
    "for r in range(N):\n",
    "    for c in range(N):\n",
    "        if matrix[r][c] != 0:\n",
    "            constrain = variables[(r, c, matrix[r][c])] == 1\n",
    "            solver.Add(constrain)"
   ]
  },
  {
   "cell_type": "code",
   "execution_count": 80,
   "metadata": {},
   "outputs": [],
   "source": [
    "for r in range(N):\n",
    "    for c in range(N):\n",
    "        constrain = sum(variables[(r, c, k)] for k in constants) == 1\n",
    "        solver.Add(constrain)"
   ]
  },
  {
   "cell_type": "code",
   "execution_count": 81,
   "metadata": {},
   "outputs": [],
   "source": [
    "for i in range(N):\n",
    "    for k in constants:\n",
    "        # 行约束\n",
    "        r_constrain = sum(variables[i, c, k] for c in range(N)) == 1\n",
    "        solver.Add(r_constrain)\n",
    "        # 列约束\n",
    "        c_constrain = sum(variables[r, i, k] for r in range(N)) == 1\n",
    "        solver.Add(c_constrain)"
   ]
  },
  {
   "cell_type": "code",
   "execution_count": 82,
   "metadata": {},
   "outputs": [],
   "source": [
    "# 约束4, 子宫格约束              \n",
    "for row in range(n):\n",
    "    for col in range(n):\n",
    "        for k in constants:\n",
    "            constrain = sum(variables[r + n * row, c + n * col, k] for r in range(n) for c in range(n)) == 1\n",
    "            solver.Add(constrain)"
   ]
  },
  {
   "cell_type": "code",
   "execution_count": 83,
   "metadata": {},
   "outputs": [],
   "source": [
    "status = solver.Solve()"
   ]
  },
  {
   "cell_type": "code",
   "execution_count": 87,
   "metadata": {},
   "outputs": [
    {
     "name": "stdout",
     "output_type": "stream",
     "text": [
      "sudoku solution:\n",
      "| 8* 1  2 | 7  5  3 | 6  4  9 |\n",
      "| 9  4  3*| 6* 8  2 | 1  7  5 |\n",
      "| 6  7* 5 | 4  9* 1 | 2* 8  3 |\n",
      "-------------------------------\n",
      "| 1  5* 4 | 2  3  7*| 8  9  6 |\n",
      "| 3  6  9 | 8  4* 5*| 7* 2  1 |\n",
      "| 2  8  7 | 1* 6  9 | 5  3* 4 |\n",
      "-------------------------------\n",
      "| 5  2  1*| 9  7  4 | 3  6* 8*|\n",
      "| 4  3  8*| 5* 2  6 | 9  1* 7 |\n",
      "| 7  9* 6 | 3  1  8 | 4* 5  2 |\n"
     ]
    }
   ],
   "source": [
    "if status == pywraplp.Solver.OPTIMAL:\n",
    "    print('sudoku solution:')\n",
    "    # 预先构造一个数独容器用于存放解析结果\n",
    "    solution = [[0 for _ in range(N)] for _ in range(N)]\n",
    "    for i in range(N):\n",
    "        for j in range(N):\n",
    "            solution[i][j] = sum(k * int(variables[i, j, k].solution_value()) for k in constants)\n",
    "    # 绘制数独结果\n",
    "    sudo_data = (''.join(f'{\"| \" if c % 3 == 0 else \" \"}{solution[r][c]}{\" \" if matrix[r][c] == 0 else \"*\"}' for c in range(N)) + '|' + ('\\n'+ '-' * 31 if (r + 1) % 3 == 0 and r != N - 1 else '') for r in range(N))\n",
    "    print('\\n'.join(sudo_data))\n",
    "else: print('warning: no solution')"
   ]
  },
  {
   "cell_type": "markdown",
   "metadata": {},
   "source": [
    "## 约束规划\n",
    "\n",
    "关于sat\n",
    "\n",
    "- [SAT 问题简介 - 中国科学技术大学](http://staff.ustc.edu.cn/~jianmin/lecture/ai2021/sat.pdf)\n",
    "- [从SAT到SMT——逻辑约束求解研究获新突破----中国科学院软件研究所](http://www.is.cas.cn/xwdt2016/kyjz2016/202208/t20220831_6507435.html)"
   ]
  },
  {
   "cell_type": "code",
   "execution_count": 1,
   "metadata": {},
   "outputs": [],
   "source": [
    "from ortools.sat.python import cp_model"
   ]
  },
  {
   "cell_type": "markdown",
   "metadata": {},
   "source": [
    "cp_model.CpModel?\n",
    "\n",
    "> class CpSolver\n",
    "Main solver class.\n",
    "The purpose of this class is to search for a solution to the model provided to the Solve() method.\n",
    "Once Solve() is called, this class allows inspecting the solution found with the Value() and BooleanValue() methods, as well as general statistics about the solve procedure."
   ]
  },
  {
   "cell_type": "markdown",
   "metadata": {},
   "source": [
    "cp_model.CpSolver?\n",
    "\n",
    "> class CpModel\n",
    "Methods for building a CP model.\n",
    "\n",
    "Methods beginning with:\n",
    "\n",
    "New create integer, boolean, or interval variables.\n",
    "Add create new constraints and add them to the model."
   ]
  },
  {
   "cell_type": "code",
   "execution_count": 63,
   "metadata": {},
   "outputs": [],
   "source": [
    "# 在求解上稍微有点不一样, model并没有solver()\n",
    "model = cp_model.CpModel()\n",
    "\n",
    "# 需要创建一个求解器的实例\n",
    "solver = cp_model.CpSolver()"
   ]
  },
  {
   "cell_type": "code",
   "execution_count": 64,
   "metadata": {},
   "outputs": [],
   "source": [
    "variables = {}\n",
    "for r in range(N):\n",
    "    for c in range(N):\n",
    "        variables[r, c] = cell if (cell := matrix[r][c]) != 0 else model.NewIntVar(1, N, f'v[{r}{c}]')"
   ]
  },
  {
   "cell_type": "markdown",
   "metadata": {},
   "source": [
    "model.AddAllDifferent?\n",
    "\n",
    "Signature: model.AddAllDifferent(*expressions)\n",
    "Docstring:\n",
    "Adds AllDifferent(expressions).\n",
    "\n",
    "This constraint forces all expressions to have different values.\n",
    "\n",
    "def AddAllDifferent(self, variables)\n",
    "Adds AllDifferent(variables).\n",
    "\n",
    "This constraint forces all variables to have different values.\n",
    "\n",
    "Args\n",
    "variables\n",
    "\n",
    "**a list of integer variables.**\n",
    "\n",
    "Returns\n",
    "An instance of the Constraint class."
   ]
  },
  {
   "cell_type": "code",
   "execution_count": 65,
   "metadata": {},
   "outputs": [],
   "source": [
    "for r in range(N):\n",
    "    model.AddAllDifferent((variables[r, c] for c in range(N)))\n",
    "\n",
    "for c in range(N):\n",
    "    model.AddAllDifferent((variables[r, c] for r in range(N)))"
   ]
  },
  {
   "cell_type": "code",
   "execution_count": 66,
   "metadata": {},
   "outputs": [],
   "source": [
    "for row in range(n):\n",
    "    for col in range(n):\n",
    "        model.AddAllDifferent((variables[r + n * row, c + n * col] for r in range(n) for c in range(n)))"
   ]
  },
  {
   "cell_type": "code",
   "execution_count": 67,
   "metadata": {},
   "outputs": [],
   "source": [
    "status = solver.Solve(model)"
   ]
  },
  {
   "cell_type": "markdown",
   "metadata": {},
   "source": [
    "solver.Value?\n",
    "\n",
    "Signature:\n",
    "solver.Value(\n",
    "    expression: Union[ForwardRef('LinearExpr'), ForwardRef('IntVar'), numbers.Integral, numpy.integer, int],\n",
    ") -> int\n",
    "Docstring: Returns the value of a linear expression after solve."
   ]
  },
  {
   "cell_type": "code",
   "execution_count": 68,
   "metadata": {},
   "outputs": [
    {
     "name": "stdout",
     "output_type": "stream",
     "text": [
      "sudoku solution:\n",
      "| 8* 1  2 | 7  5  3 | 6  4  9 |\n",
      "| 9  4  3*| 6* 8  2 | 1  7  5 |\n",
      "| 6  7* 5 | 4  9* 1 | 2* 8  3 |\n",
      "-------------------------------\n",
      "| 1  5* 4 | 2  3  7*| 8  9  6 |\n",
      "| 3  6  9 | 8  4* 5*| 7* 2  1 |\n",
      "| 2  8  7 | 1* 6  9 | 5  3* 4 |\n",
      "-------------------------------\n",
      "| 5  2  1*| 9  7  4 | 3  6* 8*|\n",
      "| 4  3  8*| 5* 2  6 | 9  1* 7 |\n",
      "| 7  9* 6 | 3  1  8 | 4* 5  2 |\n"
     ]
    }
   ],
   "source": [
    "if status == cp_model.OPTIMAL:\n",
    "    print('sudoku solution:')\n",
    "    # 预先构造一个数独容器用于存放解析结果\n",
    "    solution = [[0 for _ in range(N)] for _ in range(N)]\n",
    "    for i in range(N):\n",
    "        for j in range(N):\n",
    "            solution[i][j] = int(solver.Value(variables[i, j]))\n",
    "    # 绘制数独结果\n",
    "    sudo_data = (''.join(f'{\"| \" if c % 3 == 0 else \" \"}{solution[r][c]}{\" \" if matrix[r][c] == 0 else \"*\"}' for c in range(N)) + '|' + ('\\n'+ '-' * 31 if (r + 1) % 3 == 0 and r != N - 1 else '') for r in range(N))\n",
    "    print('\\n'.join(sudo_data))\n",
    "else: print('warning: no solution')"
   ]
  },
  {
   "cell_type": "markdown",
   "metadata": {},
   "source": []
  }
 ],
 "metadata": {
  "kernelspec": {
   "display_name": "org_env",
   "language": "python",
   "name": "python3"
  },
  "language_info": {
   "codemirror_mode": {
    "name": "ipython",
    "version": 3
   },
   "file_extension": ".py",
   "mimetype": "text/x-python",
   "name": "python",
   "nbconvert_exporter": "python",
   "pygments_lexer": "ipython3",
   "version": "3.10.13"
  }
 },
 "nbformat": 4,
 "nbformat_minor": 2
}
