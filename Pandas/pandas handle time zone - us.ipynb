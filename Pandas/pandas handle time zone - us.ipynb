{
 "cells": [
  {
   "cell_type": "markdown",
   "id": "62e0f158",
   "metadata": {},
   "source": [
    "# pandas时间处理 - 美国篇"
   ]
  },
  {
   "cell_type": "markdown",
   "id": "d2d186ae",
   "metadata": {},
   "source": [
    "## 美国时区\n",
    "\n",
    "![us time zone](https://p0.meituan.net/dpplatform/0e95e89b26385398240a21895df1aa0274049.jpg)\n",
    "\n",
    "美国和中国不一样, 美国采用的是多时区, 除此之外, 还有冬令时和夏令时之分, 在时间处理需要格外注意\n",
    "\n",
    "- 美东时间/东部时间：Eastern Daylight Time（EDT）、Eastern Stanar Time（EST）\n",
    "\n",
    "- 美西时间/太平洋时间：Pacific Daylight Time（PDT）、Pacific Stanar Time（PST）\n",
    "\n",
    "- 美中时间/中部时间：Central Daylight Time（CDT）、Central Stanar Time（CST）\n",
    "\n",
    "- 美国山地时间：Mountain Daylight Time（MDT）、Mountain Stanar Time（MST）\n",
    "\n",
    "- 阿拉斯加时间：Alaska Daylight Time（AKDT）、Alaska Stanar Time（AKST）\n",
    "\n",
    "- 夏威夷时间：Hawaii–Aleutian Stanar Time（HST）、夏威夷不用夏令时(美国夏威夷属于不实施夏令时的地区之一)\n",
    "\n",
    "\n",
    "美国冬令时/标准时间与中国时间之间的时差：\n",
    "\n",
    "- Eastern Time/美东时间(纽约, 迈阿密等)时差为-13小时.\n",
    "\n",
    "- Centrral Time/中部时间(芝加哥, 休斯顿等)时差为-14小时.\n",
    "\n",
    "- Mountain Time/山地时间(丹佛, 凤凰城等)时差为-15小时.\n",
    "\n",
    "- Pacific Time/太平洋时间(洛杉矶、拉斯维加斯、西雅图等）时差为-16小时.\n",
    "\n",
    "- Alaska Time/阿拉斯加时间时差为-17小时.\n",
    "\n",
    "- Hawaii–Aleutian Time/夏威夷时间时差为-18小时\n",
    "\n",
    "*美国正在推动法令彻底废除夏令时, 但是相关提案尚未在参众两院通过*"
   ]
  },
  {
   "cell_type": "code",
   "execution_count": 1,
   "id": "ee67a3b4",
   "metadata": {},
   "outputs": [],
   "source": [
    "import pandas as pd\n",
    "from pytz import timezone\n",
    "from datetime import datetime\n",
    "from dateutil import parser, tz"
   ]
  },
  {
   "cell_type": "code",
   "execution_count": null,
   "id": "8439c376",
   "metadata": {},
   "outputs": [],
   "source": [
    "s_time = '2022-11-06 01:16:21 AM PST'"
   ]
  },
  {
   "cell_type": "code",
   "execution_count": 24,
   "id": "d7fa941a",
   "metadata": {},
   "outputs": [],
   "source": [
    "time_zone = 'US/Pacific'"
   ]
  },
  {
   "cell_type": "markdown",
   "id": "6c783e2c",
   "metadata": {},
   "source": [
    "[pd.to_datetime](https://pandas.pydata.org/pandas-docs/stable/reference/api/pandas.to_datetime.html?highlight=pd%20to_datetime)\n",
    "\n",
    "pandas.to_datetime(\n",
    "    arg,\n",
    "    \n",
    "    errors='raise',\n",
    "    \n",
    "    dayfirst=False,\n",
    "    \n",
    "    yearfirst=False,\n",
    "    \n",
    "    utc=None,\n",
    "    \n",
    "    format=None,\n",
    "    \n",
    "    exact=True,\n",
    "    \n",
    "    unit=None,\n",
    "    \n",
    "    infer_datetime_format=False,\n",
    "    \n",
    "    origin='unix',\n",
    "    \n",
    "    cache=True\n",
    ")\n",
    "\n",
    "This function converts a scalar, array-like, Series or DataFrame/dict-like to a pandas datetime object.\n",
    "\n",
    "Parameters\n",
    "- argint, float, str, datetime, list, tuple, 1-d array, Series, DataFrame/dict-like\n",
    "  The object to convert to a datetime. If a DataFrame is provided, the method expects minimally the following columns:\"year\", \"month\", \"day\".\n",
    "\n",
    "- errors{‘ignore’, ‘raise’, ‘coerce’}, default ‘raise’\n",
    "  If 'raise', then invalid parsing will raise an exception.\n",
    "  If 'coerce', then invalid parsing will be set as NaT.\n",
    "  If 'ignore', then invalid parsing will return the input.\n",
    "\n",
    "- dayfirstbool, default False\n",
    "    Specify a date parse order if arg is str or is list-like. If True, parses dates with the day first, e.g. \"10/11/12\" is parsed as 2012-11-10.\n",
    "\n",
    "Warning\n",
    "\n",
    "- dayfirst=True is not strict, but will prefer to parse with day first. If a delimited date string cannot be parsed in accordance with the given dayfirst option, e.g. to_datetime(['31-12-2021']), then a warning will be shown.\n",
    "\n",
    "- yearfirst, bool, default False, Specify a date parse order if arg is str or is list-like.\n",
    "  If True parses dates with the year first, e.g. \"10/11/12\" is parsed as 2010-11-12.\n",
    "  If both dayfirst and yearfirst are True, yearfirst is preceded (same as dateutil).\n",
    "\n",
    "Warning\n",
    "\n",
    "yearfirst=True is not strict, but will prefer to parse with year first.\n",
    "\n",
    "utcbool, default None\n",
    "Control timezone-related parsing, localization and conversion.\n",
    "\n",
    "If True, the function always returns a timezone-aware UTC-localized Timestamp, Series or DatetimeIndex. To do this, timezone-naive inputs are localized as UTC, while timezone-aware inputs are converted to UTC.\n",
    "\n",
    "If False (default), inputs will not be coerced to UTC. Timezone-naive inputs will remain naive, while timezone-aware ones will keep their time offsets. Limitations exist for mixed offsets (typically, daylight savings), see Examples section for details.\n",
    "\n",
    "See also: pandas general documentation about timezone conversion and localization.\n",
    "\n",
    "formatstr, default None\n",
    "The strftime to parse time, e.g. \"%d/%m/%Y\". Note that \"%f\" will parse all the way up to nanoseconds. See strftime documentation for more information on choices.\n",
    "\n",
    "exactbool, default True\n",
    "Control how format is used:\n",
    "\n",
    "If True, require an exact format match.\n",
    "\n",
    "If False, allow the format to match anywhere in the target string.\n",
    "\n",
    "unitstr, default ‘ns’\n",
    "The unit of the arg (D,s,ms,us,ns) denote the unit, which is an integer or float number. This will be based off the origin. Example, with unit='ms' and origin='unix', this would calculate the number of milliseconds to the unix epoch start.\n",
    "\n",
    "infer_datetime_formatbool, default False\n",
    "If True and no format is given, attempt to infer the format of the datetime strings based on the first non-NaN element, and if it can be inferred, switch to a faster method of parsing them. In some cases this can increase the parsing speed by ~5-10x.\n",
    "\n",
    "originscalar, default ‘unix’\n",
    "Define the reference date. The numeric values would be parsed as number of units (defined by unit) since this reference date.\n",
    "\n",
    "If 'unix' (or POSIX) time; origin is set to 1970-01-01.\n",
    "\n",
    "If 'julian', unit must be 'D', and origin is set to beginning of Julian Calendar. Julian day number 0 is assigned to the day starting at noon on January 1, 4713 BC.\n",
    "\n",
    "If Timestamp convertible, origin is set to Timestamp identified by origin.\n",
    "\n",
    "cachebool, default True\n",
    "If True, use a cache of unique, converted dates to apply the datetime conversion. May produce significant speed-up when parsing duplicate date strings, especially ones with timezone offsets. The cache is only used when there are at least 50 values. The presence of out-of-bounds values will render the cache unusable and may slow down parsing.\n",
    "\n",
    "Changed in version 0.25.0: changed default value from False to True.\n",
    "\n",
    "Returns\n",
    "- datetime, If parsing succeeded. Return type depends on input (types in parenthesis correspond to fallback in case of unsuccessful timezone or out-of-range timestamp parsing):\n",
    "\n",
    "- scalar: Timestamp (or datetime.datetime)\n",
    "\n",
    "- array-like: DatetimeIndex (or Series with object dtype containing datetime.datetime)\n",
    "\n",
    "- Series: Series of datetime64 dtype (or Series of object dtype containing datetime.datetime)\n",
    "\n",
    "- DataFrame: Series of datetime64 dtype (or Series of object dtype containing datetime.datetime)\n",
    "\n",
    "Raises\n",
    "- ParserError, When parsing a date from string fails.\n",
    "\n",
    "- ValueError, When another datetime conversion error happens. For example when one of ‘year’, ‘month’, day’ columns is missing in a DataFrame, or when a Timezone-aware datetime.datetime is found in an array-like of mixed time offsets, and utc=False.\n",
    "\n"
   ]
  },
  {
   "cell_type": "markdown",
   "id": "1e1343bc",
   "metadata": {},
   "source": [
    "DataFrame.tz_localize(tz, axis=0, level=None, copy=True, ambiguous='raise', nonexistent='raise')[source]"
   ]
  },
  {
   "cell_type": "code",
   "execution_count": 27,
   "id": "abf627a4",
   "metadata": {},
   "outputs": [
    {
     "ename": "AmbiguousTimeError",
     "evalue": "Cannot infer dst time from 2022-11-06 01:16:21, try using the 'ambiguous' argument",
     "output_type": "error",
     "traceback": [
      "\u001b[1;31m---------------------------------------------------------------------------\u001b[0m",
      "\u001b[1;31mAmbiguousTimeError\u001b[0m                        Traceback (most recent call last)",
      "Input \u001b[1;32mIn [27]\u001b[0m, in \u001b[0;36m<cell line: 1>\u001b[1;34m()\u001b[0m\n\u001b[1;32m----> 1\u001b[0m \u001b[43mpd\u001b[49m\u001b[38;5;241;43m.\u001b[39;49m\u001b[43mto_datetime\u001b[49m\u001b[43m(\u001b[49m\u001b[43ms_time\u001b[49m\u001b[43m)\u001b[49m\u001b[38;5;241;43m.\u001b[39;49m\u001b[43mtz_localize\u001b[49m\u001b[43m(\u001b[49m\u001b[43mtime_zone\u001b[49m\u001b[43m)\u001b[49m\u001b[38;5;241m.\u001b[39mtz_convert(\u001b[38;5;124m'\u001b[39m\u001b[38;5;124mAsia/Shanghai\u001b[39m\u001b[38;5;124m'\u001b[39m)\u001b[38;5;241m.\u001b[39mtz_localize(\u001b[38;5;28;01mNone\u001b[39;00m)\n",
      "File \u001b[1;32m~\\anaconda3\\lib\\site-packages\\pandas\\_libs\\tslibs\\timestamps.pyx:1833\u001b[0m, in \u001b[0;36mpandas._libs.tslibs.timestamps.Timestamp.tz_localize\u001b[1;34m()\u001b[0m\n",
      "File \u001b[1;32m~\\anaconda3\\lib\\site-packages\\pandas\\_libs\\tslibs\\tzconversion.pyx:74\u001b[0m, in \u001b[0;36mpandas._libs.tslibs.tzconversion.tz_localize_to_utc_single\u001b[1;34m()\u001b[0m\n",
      "File \u001b[1;32m~\\anaconda3\\lib\\site-packages\\pandas\\_libs\\tslibs\\tzconversion.pyx:284\u001b[0m, in \u001b[0;36mpandas._libs.tslibs.tzconversion.tz_localize_to_utc\u001b[1;34m()\u001b[0m\n",
      "\u001b[1;31mAmbiguousTimeError\u001b[0m: Cannot infer dst time from 2022-11-06 01:16:21, try using the 'ambiguous' argument"
     ]
    }
   ],
   "source": [
    "pd.to_datetime(s_time).tz_localize(time_zone).tz_convert('Asia/Shanghai').tz_localize(None)"
   ]
  },
  {
   "cell_type": "code",
   "execution_count": 31,
   "id": "00f4e9a4",
   "metadata": {},
   "outputs": [
    {
     "ename": "AmbiguousTimeError",
     "evalue": "Cannot infer dst time from 2022-11-06 01:16:21, try using the 'ambiguous' argument",
     "output_type": "error",
     "traceback": [
      "\u001b[1;31m---------------------------------------------------------------------------\u001b[0m",
      "\u001b[1;31mAmbiguousTimeError\u001b[0m                        Traceback (most recent call last)",
      "Input \u001b[1;32mIn [31]\u001b[0m, in \u001b[0;36m<cell line: 3>\u001b[1;34m()\u001b[0m\n\u001b[0;32m      1\u001b[0m \u001b[38;5;66;03m# 这里将时区具体为洛杉矶, 还是出现无法区分夏令时/冬令时之间的差异\u001b[39;00m\n\u001b[1;32m----> 3\u001b[0m \u001b[43mpd\u001b[49m\u001b[38;5;241;43m.\u001b[39;49m\u001b[43mto_datetime\u001b[49m\u001b[43m(\u001b[49m\u001b[43ms_time\u001b[49m\u001b[43m)\u001b[49m\u001b[38;5;241;43m.\u001b[39;49m\u001b[43mtz_localize\u001b[49m\u001b[43m(\u001b[49m\u001b[38;5;124;43m'\u001b[39;49m\u001b[38;5;124;43mAmerica/Los_Angeles\u001b[39;49m\u001b[38;5;124;43m'\u001b[39;49m\u001b[43m)\u001b[49m\u001b[38;5;241m.\u001b[39mtz_convert(\u001b[38;5;124m'\u001b[39m\u001b[38;5;124mAsia/Shanghai\u001b[39m\u001b[38;5;124m'\u001b[39m)\u001b[38;5;241m.\u001b[39mtz_localize(\u001b[38;5;28;01mNone\u001b[39;00m)\n",
      "File \u001b[1;32m~\\anaconda3\\lib\\site-packages\\pandas\\_libs\\tslibs\\timestamps.pyx:1833\u001b[0m, in \u001b[0;36mpandas._libs.tslibs.timestamps.Timestamp.tz_localize\u001b[1;34m()\u001b[0m\n",
      "File \u001b[1;32m~\\anaconda3\\lib\\site-packages\\pandas\\_libs\\tslibs\\tzconversion.pyx:74\u001b[0m, in \u001b[0;36mpandas._libs.tslibs.tzconversion.tz_localize_to_utc_single\u001b[1;34m()\u001b[0m\n",
      "File \u001b[1;32m~\\anaconda3\\lib\\site-packages\\pandas\\_libs\\tslibs\\tzconversion.pyx:284\u001b[0m, in \u001b[0;36mpandas._libs.tslibs.tzconversion.tz_localize_to_utc\u001b[1;34m()\u001b[0m\n",
      "\u001b[1;31mAmbiguousTimeError\u001b[0m: Cannot infer dst time from 2022-11-06 01:16:21, try using the 'ambiguous' argument"
     ]
    }
   ],
   "source": [
    "# 这里将时区具体为洛杉矶, 还是出现无法区分夏令时/冬令时之间的差异\n",
    "\n",
    "pd.to_datetime(s_time).tz_localize('America/Los_Angeles').tz_convert('Asia/Shanghai').tz_localize(None)"
   ]
  },
  {
   "cell_type": "markdown",
   "id": "dd2f816f",
   "metadata": {},
   "source": [
    "注意这里的处理产生的异常, `Cannot infer dst time from 2022-11-06 01:16:21, try using the 'ambiguous' argument`\n",
    "\n",
    "ambiguous‘infer’, bool-ndarray, ‘NaT’, default ‘raise’\n",
    "\n",
    "When clocks moved backward due to DST, ambiguous times may arise. For example in Central European Time (UTC+01), when going from 03:00 DST to 02:00 non-DST, 02:30:00 local time occurs both at 00:30:00 UTC and at 01:30:00 UTC. In such a situation, the ambiguous parameter dictates how ambiguous times should be handled.\n",
    "\n",
    "‘infer’ will attempt to infer fall dst-transition hours based on order, 基于传入的多个时间?\n",
    "\n",
    "bool-ndarray where True signifies a DST time, False designates a non-DST time (note that this flag is only applicable for ambiguous times)\n",
    "\n",
    "True, 表示为夏令时, False则反之\n",
    "\n",
    "‘NaT’ will return NaT where there are ambiguous times\n",
    "\n",
    "‘raise’ will raise an AmbiguousTimeError if there are ambiguous times.\n",
    "\n",
    "注意,参数提及的`DST`\n",
    "\n",
    "> 「夏日节约时间」Daylight Saving Time（简称D.S.T.）\n"
   ]
  },
  {
   "cell_type": "code",
   "execution_count": 28,
   "id": "d29ea6c8",
   "metadata": {},
   "outputs": [
    {
     "data": {
      "text/plain": [
       "Timestamp('2022-11-06 16:16:21')"
      ]
     },
     "execution_count": 28,
     "metadata": {},
     "output_type": "execute_result"
    }
   ],
   "source": [
    "pd.to_datetime(s_time).tz_localize(time_zone, ambiguous=True).tz_convert('Asia/Shanghai').tz_localize(None)"
   ]
  },
  {
   "cell_type": "markdown",
   "id": "f0b8613f",
   "metadata": {},
   "source": [
    "这里指定参数 `ambiguous` 为True, 则pandas会改时间视作夏令时, 和北京时间的差异为+15个小时, 即pandas并不会自动的根据PST这个标记将时间识别为 `Pacific Stanar Time（PST）`, 表明和北京时间相差16个小时."
   ]
  },
  {
   "cell_type": "code",
   "execution_count": 30,
   "id": "c9053924",
   "metadata": {},
   "outputs": [
    {
     "data": {
      "text/plain": [
       "Timestamp('2022-11-06 17:16:21')"
      ]
     },
     "execution_count": 30,
     "metadata": {},
     "output_type": "execute_result"
    }
   ],
   "source": [
    "pd.to_datetime(s_time).tz_localize(time_zone, ambiguous=False).tz_convert('Asia/Shanghai').tz_localize(None)"
   ]
  },
  {
   "cell_type": "markdown",
   "id": "478d7172",
   "metadata": {},
   "source": [
    "## 使用dateutil\n",
    "\n",
    "相比于pandas的处理方式, 更为之简答"
   ]
  },
  {
   "cell_type": "code",
   "execution_count": 4,
   "id": "e9452d31",
   "metadata": {},
   "outputs": [],
   "source": [
    "tz_dict = {'PST': tz.gettz(time_zone)}"
   ]
  },
  {
   "cell_type": "code",
   "execution_count": 5,
   "id": "12250b30",
   "metadata": {},
   "outputs": [],
   "source": [
    "d = parser.parse(s_time, tzinfos=tz_dict)"
   ]
  },
  {
   "cell_type": "code",
   "execution_count": 6,
   "id": "6117434e",
   "metadata": {},
   "outputs": [
    {
     "data": {
      "text/plain": [
       "datetime.datetime(2022, 11, 6, 17, 16, 21)"
      ]
     },
     "execution_count": 6,
     "metadata": {},
     "output_type": "execute_result"
    }
   ],
   "source": [
    "d.astimezone(tz=timezone('Asia/Shanghai')).replace(tzinfo=None)"
   ]
  }
 ],
 "metadata": {
  "kernelspec": {
   "display_name": "Python 3 (ipykernel)",
   "language": "python",
   "name": "python3"
  },
  "language_info": {
   "codemirror_mode": {
    "name": "ipython",
    "version": 3
   },
   "file_extension": ".py",
   "mimetype": "text/x-python",
   "name": "python",
   "nbconvert_exporter": "python",
   "pygments_lexer": "ipython3",
   "version": "3.9.12"
  }
 },
 "nbformat": 4,
 "nbformat_minor": 5
}
