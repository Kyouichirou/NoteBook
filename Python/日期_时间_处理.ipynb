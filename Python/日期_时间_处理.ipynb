{
 "cells": [
  {
   "cell_type": "markdown",
   "id": "dc63194b",
   "metadata": {},
   "source": [
    "# 时间处理"
   ]
  },
  {
   "cell_type": "markdown",
   "id": "16074d67",
   "metadata": {},
   "source": [
    "时间/日期的常见处理\n",
    "\n",
    "转换\n",
    "\n",
    "- 字符串转时间/日期\n",
    "\n",
    "- 时间/日期转字符串(按照特定的格式)\n",
    "\n",
    "- 时间戳转日期/时间\n",
    "\n",
    "运算\n",
    "\n",
    "- 时间的间隔\n",
    "\n",
    "精度\n",
    "\n",
    "- 秒/毫秒\n",
    "\n",
    "格式\n",
    "\n",
    "- 地区格式(月份缩写, 年月日顺序)\n",
    "\n",
    "- 时区的格式(GMT, UTC.....)\n",
    "\n",
    "相对复杂的是包含时区的转换"
   ]
  },
  {
   "cell_type": "markdown",
   "id": "7116c8da",
   "metadata": {},
   "source": [
    "## 常用时间/日期处理库"
   ]
  },
  {
   "cell_type": "code",
   "execution_count": 1,
   "id": "ad73b8de",
   "metadata": {},
   "outputs": [],
   "source": [
    "# 基础, https://docs.python.org/zh-cn/3/library/datetime.html#time-objects\n",
    "import time"
   ]
  },
  {
   "cell_type": "code",
   "execution_count": 13,
   "id": "8b044e4e",
   "metadata": {},
   "outputs": [],
   "source": [
    "# 基础, https://docs.python.org/zh-cn/3/library/datetime.html#module-datetime\n",
    "from datetime import datetime, date, timedelta"
   ]
  },
  {
   "cell_type": "code",
   "execution_count": 3,
   "id": "08f6ce1e",
   "metadata": {},
   "outputs": [],
   "source": [
    "# 第三方强化, 对其他的各个模块的进一步封装和扩展\n",
    "import arrow"
   ]
  },
  {
   "cell_type": "code",
   "execution_count": 4,
   "id": "32f4503f",
   "metadata": {},
   "outputs": [],
   "source": [
    "# 时区\n",
    "from pytz import timezone"
   ]
  },
  {
   "cell_type": "code",
   "execution_count": 5,
   "id": "b575628e",
   "metadata": {},
   "outputs": [],
   "source": [
    "# 第三方强化\n",
    "from dateutil import parser, tz"
   ]
  },
  {
   "cell_type": "code",
   "execution_count": 61,
   "id": "e2d31425",
   "metadata": {},
   "outputs": [],
   "source": [
    "import pytz"
   ]
  },
  {
   "cell_type": "code",
   "execution_count": 64,
   "id": "0bab0024",
   "metadata": {},
   "outputs": [],
   "source": [
    "from pprint import pprint"
   ]
  },
  {
   "cell_type": "markdown",
   "id": "45786647",
   "metadata": {},
   "source": [
    "## time"
   ]
  },
  {
   "cell_type": "code",
   "execution_count": 40,
   "id": "fe438e8f",
   "metadata": {
    "scrolled": true
   },
   "outputs": [
    {
     "data": {
      "text/plain": [
       "'Tue Dec 13 16:06:16 2022'"
      ]
     },
     "execution_count": 40,
     "metadata": {},
     "output_type": "execute_result"
    }
   ],
   "source": [
    "time.ctime()"
   ]
  },
  {
   "cell_type": "markdown",
   "id": "b6dcad91",
   "metadata": {},
   "source": [
    "> ctime() 函数把一个时间戳（按秒计算的浮点数）转化为time.asctime()的形式。 如果参数未给或者为None的时候，将会默认time.time()为参数。它的作用相当于 asctime(localtime(secs))。"
   ]
  },
  {
   "cell_type": "code",
   "execution_count": 41,
   "id": "1c861bc6",
   "metadata": {},
   "outputs": [
    {
     "data": {
      "text/plain": [
       "'Tue Dec 13 16:06:17 2022'"
      ]
     },
     "execution_count": 41,
     "metadata": {},
     "output_type": "execute_result"
    }
   ],
   "source": [
    "time.asctime()"
   ]
  },
  {
   "cell_type": "markdown",
   "id": "285bc504",
   "metadata": {},
   "source": [
    "> asctime() 函数接受时间元组并返回一个可读的形式为\"Tue Dec 11 18:07:14 2008\"（2008年12月11日 周二18时07分14秒）的24个字符的字符串。"
   ]
  },
  {
   "cell_type": "code",
   "execution_count": 42,
   "id": "863a7558",
   "metadata": {},
   "outputs": [
    {
     "data": {
      "text/plain": [
       "'Tue Dec 13 15:59:54 2022'"
      ]
     },
     "execution_count": 42,
     "metadata": {},
     "output_type": "execute_result"
    }
   ],
   "source": [
    "time.ctime(1670918394504/1000)"
   ]
  },
  {
   "cell_type": "code",
   "execution_count": 43,
   "id": "35f000b4",
   "metadata": {},
   "outputs": [
    {
     "data": {
      "text/plain": [
       "'Tue Dec 13 16:06:32 2022'"
      ]
     },
     "execution_count": 43,
     "metadata": {},
     "output_type": "execute_result"
    }
   ],
   "source": [
    "time.ctime(time.time())"
   ]
  },
  {
   "cell_type": "code",
   "execution_count": 44,
   "id": "64f7e02e",
   "metadata": {},
   "outputs": [
    {
     "data": {
      "text/plain": [
       "time.struct_time(tm_year=2022, tm_mon=12, tm_mday=13, tm_hour=16, tm_min=6, tm_sec=45, tm_wday=1, tm_yday=347, tm_isdst=0)"
      ]
     },
     "execution_count": 44,
     "metadata": {},
     "output_type": "execute_result"
    }
   ],
   "source": [
    "# 当地时间, tm_isdst(夏令时)\n",
    "time.localtime()"
   ]
  },
  {
   "attachments": {},
   "cell_type": "markdown",
   "id": "aaf73488",
   "metadata": {},
   "source": [
    "|参数|含义|\n",
    "|----|----|\n",
    "|tm_mon|1 到 12|\n",
    "|tm_mday|1 到 31|\n",
    "|tm_hour|0 到 23|\n",
    "|tm_min|0 到 59|\n",
    "|tm_sec|0 到 61 (60或61 是闰秒)|\n",
    "|tm_wday|0到6 (0是周一)|\n",
    "|tm_yday|1 到 366(儒略历)|\n",
    "|tm_isdst|-1, 0, 1, -1是决定是否为夏令时的旗帜|"
   ]
  },
  {
   "cell_type": "code",
   "execution_count": 6,
   "id": "560c2808",
   "metadata": {},
   "outputs": [
    {
     "data": {
      "text/plain": [
       "1670916343.0942013"
      ]
     },
     "execution_count": 6,
     "metadata": {},
     "output_type": "execute_result"
    }
   ],
   "source": [
    "# 时间戳\n",
    "time.time()"
   ]
  },
  {
   "cell_type": "code",
   "execution_count": 99,
   "id": "7133dc3d",
   "metadata": {},
   "outputs": [
    {
     "data": {
      "text/plain": [
       "time.struct_time(tm_year=2022, tm_mon=1, tm_mday=1, tm_hour=23, tm_min=55, tm_sec=46, tm_wday=5, tm_yday=1, tm_isdst=-1)"
      ]
     },
     "execution_count": 99,
     "metadata": {},
     "output_type": "execute_result"
    }
   ],
   "source": [
    "# 得到的是时间值序列\n",
    "time.strptime('20220101235546', '%Y%m%d%H%M%S')"
   ]
  },
  {
   "cell_type": "markdown",
   "id": "e985baad",
   "metadata": {},
   "source": [
    "## datetime\n",
    "\n",
    "|类名| 功能说明|\n",
    "|----|--------|\n",
    "|date |日期对象|\n",
    "|time|时间对象|\n",
    "|datetime|日期时间对象|\n",
    "|timedelta |时间间隔|\n",
    "|tzinfo|时区信息对象|"
   ]
  },
  {
   "cell_type": "markdown",
   "id": "27f99fe7",
   "metadata": {},
   "source": [
    "|符号|含义|\n",
    "|----|----|\n",
    "|%y|两位数的年份表示（00-99）|\n",
    "|%Y|四位数的年份表示（000-9999）|\n",
    "|%m|月份（01-12）|\n",
    "|%d|月内中的一天（0-31）|\n",
    "|%H|24小时制小时数（0-23）|\n",
    "|%I|12小时制小时数（01-12）|\n",
    "|%M|分钟数（00-59）|\n",
    "|%S|秒（00-59）|\n",
    "|%a|本地简化星期名称|\n",
    "|%A|本地完整星期名称|\n",
    "|%b|本地简化的月份名称|\n",
    "|%B|本地完整的月份名称|\n",
    "|%c|本地相应的日期表示和时间表示|\n",
    "|%j|年内的一天（001-366）|\n",
    "|%p|本地A.M.或P.M.的等价符|\n",
    "|%U|一年中的星期数（00-53）星期天为星期的开始|\n",
    "|%w|星期（0-6），星期天为星期的开始|\n",
    "|%W|一年中的星期数（00-53）星期一为星期的开始|\n",
    "|%x|本地相应的日期表示|\n",
    "|%X|本地相应的时间表示|\n",
    "|%Z|当前时区的名称|\n",
    "|%%|%号本身|"
   ]
  },
  {
   "cell_type": "markdown",
   "id": "c5b9a1fe",
   "metadata": {},
   "source": [
    "datetime参数\n",
    "\n",
    "> class datetime.datetime(year, month, day, hour=0, minute=0, second=0, microsecond=0, tzinfo=None, *, fold=0)"
   ]
  },
  {
   "cell_type": "code",
   "execution_count": 7,
   "id": "212ef10f",
   "metadata": {},
   "outputs": [
    {
     "data": {
      "text/plain": [
       "datetime.datetime(2022, 12, 13, 15, 26, 31, 454843)"
      ]
     },
     "execution_count": 7,
     "metadata": {},
     "output_type": "execute_result"
    }
   ],
   "source": [
    "# 当前日期/时间\n",
    "datetime.now()"
   ]
  },
  {
   "cell_type": "code",
   "execution_count": 10,
   "id": "476aca91",
   "metadata": {},
   "outputs": [
    {
     "data": {
      "text/plain": [
       "datetime.date(2022, 12, 13)"
      ]
     },
     "execution_count": 10,
     "metadata": {},
     "output_type": "execute_result"
    }
   ],
   "source": [
    "# 当前日期\n",
    "date.today()"
   ]
  },
  {
   "cell_type": "code",
   "execution_count": 11,
   "id": "3f2f9f66",
   "metadata": {},
   "outputs": [
    {
     "data": {
      "text/plain": [
       "datetime.date(2020, 10, 1)"
      ]
     },
     "execution_count": 11,
     "metadata": {},
     "output_type": "execute_result"
    }
   ],
   "source": [
    "# 构造\n",
    "date(2020, 10, 1)"
   ]
  },
  {
   "cell_type": "code",
   "execution_count": 14,
   "id": "a536d620",
   "metadata": {},
   "outputs": [],
   "source": [
    "# object\n",
    "today = date.today()"
   ]
  },
  {
   "cell_type": "code",
   "execution_count": 15,
   "id": "04d85067",
   "metadata": {},
   "outputs": [
    {
     "data": {
      "text/plain": [
       "13"
      ]
     },
     "execution_count": 15,
     "metadata": {},
     "output_type": "execute_result"
    }
   ],
   "source": [
    "today.day"
   ]
  },
  {
   "cell_type": "code",
   "execution_count": 16,
   "id": "89670e36",
   "metadata": {},
   "outputs": [
    {
     "data": {
      "text/plain": [
       "2022"
      ]
     },
     "execution_count": 16,
     "metadata": {},
     "output_type": "execute_result"
    }
   ],
   "source": [
    "today.year"
   ]
  },
  {
   "cell_type": "code",
   "execution_count": 17,
   "id": "836770ed",
   "metadata": {},
   "outputs": [
    {
     "data": {
      "text/plain": [
       "12"
      ]
     },
     "execution_count": 17,
     "metadata": {},
     "output_type": "execute_result"
    }
   ],
   "source": [
    "today.month"
   ]
  },
  {
   "cell_type": "code",
   "execution_count": 46,
   "id": "c5a082a2",
   "metadata": {},
   "outputs": [
    {
     "data": {
      "text/plain": [
       "'2022-12-13'"
      ]
     },
     "execution_count": 46,
     "metadata": {},
     "output_type": "execute_result"
    }
   ],
   "source": [
    "today.strftime('%Y-%m-%d')"
   ]
  },
  {
   "cell_type": "code",
   "execution_count": 81,
   "id": "13b51865",
   "metadata": {},
   "outputs": [],
   "source": [
    "sh = timezone('Asia/Shanghai')"
   ]
  },
  {
   "cell_type": "code",
   "execution_count": 82,
   "id": "3288a223",
   "metadata": {
    "scrolled": true
   },
   "outputs": [
    {
     "data": {
      "text/plain": [
       "datetime.datetime(2018, 11, 1, 8, 0, tzinfo=<DstTzInfo 'Asia/Shanghai' LMT+8:06:00 STD>)"
      ]
     },
     "execution_count": 82,
     "metadata": {},
     "output_type": "execute_result"
    }
   ],
   "source": [
    "datetime(2018, 11, 1, hour=8, tzinfo=sh)"
   ]
  },
  {
   "cell_type": "markdown",
   "id": "9f9a07c1",
   "metadata": {},
   "source": [
    "class datetime.timedelta(\n",
    "\n",
    "    days=0, \n",
    "    seconds=0,\n",
    "    microseconds=0, \n",
    "    milliseconds=0, \n",
    "    minutes=0,\n",
    "    hours=0, \n",
    "    weeks=0\n",
    ")"
   ]
  },
  {
   "cell_type": "code",
   "execution_count": 84,
   "id": "ec66973d",
   "metadata": {},
   "outputs": [],
   "source": [
    "# 时间的间隔\n",
    "current = datetime.now()"
   ]
  },
  {
   "cell_type": "code",
   "execution_count": 87,
   "id": "4219046d",
   "metadata": {},
   "outputs": [
    {
     "data": {
      "text/plain": [
       "datetime.datetime(2022, 12, 12, 17, 13, 8, 438272)"
      ]
     },
     "execution_count": 87,
     "metadata": {},
     "output_type": "execute_result"
    }
   ],
   "source": [
    "current - timedelta(days=1)"
   ]
  },
  {
   "cell_type": "code",
   "execution_count": 88,
   "id": "633755a3",
   "metadata": {},
   "outputs": [
    {
     "data": {
      "text/plain": [
       "datetime.datetime(2022, 12, 14, 17, 13, 8, 438272)"
      ]
     },
     "execution_count": 88,
     "metadata": {},
     "output_type": "execute_result"
    }
   ],
   "source": [
    "current + timedelta(days=1)"
   ]
  },
  {
   "cell_type": "code",
   "execution_count": 89,
   "id": "bd5dd56a",
   "metadata": {},
   "outputs": [],
   "source": [
    "# 相对不规则的字符串时间\n",
    "a = 'Wed Nov 14 15:38:55 +0800 2018'"
   ]
  },
  {
   "cell_type": "code",
   "execution_count": 90,
   "id": "735b07b3",
   "metadata": {},
   "outputs": [
    {
     "data": {
      "text/plain": [
       "datetime.datetime(2018, 11, 14, 15, 38, 55, tzinfo=datetime.timezone(datetime.timedelta(seconds=28800)))"
      ]
     },
     "execution_count": 90,
     "metadata": {},
     "output_type": "execute_result"
    }
   ],
   "source": [
    "datetime.strptime(a,'%a %b %d %H:%M:%S %z %Y')"
   ]
  },
  {
   "cell_type": "code",
   "execution_count": 91,
   "id": "3390f3ad",
   "metadata": {},
   "outputs": [
    {
     "data": {
      "text/plain": [
       "28800"
      ]
     },
     "execution_count": 91,
     "metadata": {},
     "output_type": "execute_result"
    }
   ],
   "source": [
    "60 * 60 * 8"
   ]
  },
  {
   "cell_type": "code",
   "execution_count": 104,
   "id": "bfe9b645",
   "metadata": {},
   "outputs": [],
   "source": [
    "b = '2021-09-01 15:27:05.004573 +0530'"
   ]
  },
  {
   "cell_type": "code",
   "execution_count": 105,
   "id": "d7582b72",
   "metadata": {},
   "outputs": [
    {
     "data": {
      "text/plain": [
       "datetime.datetime(2021, 9, 1, 15, 27, 5, 4573, tzinfo=datetime.timezone(datetime.timedelta(seconds=19800)))"
      ]
     },
     "execution_count": 105,
     "metadata": {},
     "output_type": "execute_result"
    }
   ],
   "source": [
    "datetime.strptime(b, '%Y-%m-%d %H:%M:%S.%f %z')"
   ]
  },
  {
   "cell_type": "code",
   "execution_count": 106,
   "id": "7a89b242",
   "metadata": {},
   "outputs": [
    {
     "data": {
      "text/plain": [
       "19800.0"
      ]
     },
     "execution_count": 106,
     "metadata": {},
     "output_type": "execute_result"
    }
   ],
   "source": [
    "60 * 60 * 5.5"
   ]
  },
  {
   "cell_type": "code",
   "execution_count": 107,
   "id": "d8621f96",
   "metadata": {},
   "outputs": [],
   "source": [
    "c = 'Sep 01 2021 03:27:05 PM'"
   ]
  },
  {
   "cell_type": "code",
   "execution_count": 108,
   "id": "738c6170",
   "metadata": {},
   "outputs": [
    {
     "data": {
      "text/plain": [
       "datetime.datetime(2021, 9, 1, 15, 27, 5)"
      ]
     },
     "execution_count": 108,
     "metadata": {},
     "output_type": "execute_result"
    }
   ],
   "source": [
    "datetime.strptime(c, '%b %d %Y %I:%M:%S %p')"
   ]
  },
  {
   "cell_type": "code",
   "execution_count": 100,
   "id": "174bbaba",
   "metadata": {},
   "outputs": [
    {
     "data": {
      "text/plain": [
       "datetime.datetime(2022, 1, 1, 23, 55, 46)"
      ]
     },
     "execution_count": 100,
     "metadata": {},
     "output_type": "execute_result"
    }
   ],
   "source": [
    "# 得到的是datetime型数据\n",
    "datetime.strptime('20220101235546', '%Y%m%d%H%M%S')"
   ]
  },
  {
   "cell_type": "code",
   "execution_count": 101,
   "id": "7c1bf939",
   "metadata": {},
   "outputs": [
    {
     "data": {
      "text/plain": [
       "datetime.date(2019, 12, 13)"
      ]
     },
     "execution_count": 101,
     "metadata": {},
     "output_type": "execute_result"
    }
   ],
   "source": [
    "# 将时间戳转为日期\n",
    "date.fromtimestamp(1576244364)"
   ]
  },
  {
   "cell_type": "code",
   "execution_count": 102,
   "id": "08a53f16",
   "metadata": {},
   "outputs": [
    {
     "ename": "OSError",
     "evalue": "[Errno 22] Invalid argument",
     "output_type": "error",
     "traceback": [
      "\u001b[1;31m---------------------------------------------------------------------------\u001b[0m",
      "\u001b[1;31mOSError\u001b[0m                                   Traceback (most recent call last)",
      "Input \u001b[1;32mIn [102]\u001b[0m, in \u001b[0;36m<cell line: 2>\u001b[1;34m()\u001b[0m\n\u001b[0;32m      1\u001b[0m \u001b[38;5;66;03m# 13位的时间戳, 直接出错\u001b[39;00m\n\u001b[1;32m----> 2\u001b[0m \u001b[43mdate\u001b[49m\u001b[38;5;241;43m.\u001b[39;49m\u001b[43mfromtimestamp\u001b[49m\u001b[43m(\u001b[49m\u001b[38;5;241;43m1670918394504\u001b[39;49m\u001b[43m)\u001b[49m\n",
      "\u001b[1;31mOSError\u001b[0m: [Errno 22] Invalid argument"
     ]
    }
   ],
   "source": [
    "# 13位的时间戳, 直接出错\n",
    "date.fromtimestamp(1670918394504)"
   ]
  },
  {
   "cell_type": "code",
   "execution_count": 103,
   "id": "f8e0ba4d",
   "metadata": {},
   "outputs": [
    {
     "data": {
      "text/plain": [
       "datetime.date(2022, 12, 13)"
      ]
     },
     "execution_count": 103,
     "metadata": {},
     "output_type": "execute_result"
    }
   ],
   "source": [
    "date.fromtimestamp(1670918394504/1000)"
   ]
  },
  {
   "cell_type": "code",
   "execution_count": null,
   "id": "0ca95f47",
   "metadata": {},
   "outputs": [],
   "source": []
  },
  {
   "cell_type": "markdown",
   "id": "40c9a349",
   "metadata": {},
   "source": [
    "## arrow\n",
    "\n",
    "arrow一个时间处理的强化包\n",
    "\n",
    "> Too many modules: datetime, time, calendar, dateutil, pytz and more\n",
    "\n",
    "> Too many types: date, time, datetime, tzinfo, timedelta, relativedelta, etc.\n",
    "\n",
    "> Timezones and timestamp conversions are verbose and unpleasant\n",
    "\n",
    "> Timezone naivety is the norm\n",
    "\n",
    "> Gaps in functionality: ISO 8601 parsing, timespans, humanization"
   ]
  },
  {
   "cell_type": "code",
   "execution_count": 21,
   "id": "67e2b5e8",
   "metadata": {},
   "outputs": [
    {
     "data": {
      "text/plain": [
       "<Arrow [2013-05-11T21:23:58.970460+07:00]>"
      ]
     },
     "execution_count": 21,
     "metadata": {},
     "output_type": "execute_result"
    }
   ],
   "source": [
    "arrow.get('2013-05-11T21:23:58.970460+07:00')"
   ]
  },
  {
   "cell_type": "code",
   "execution_count": 74,
   "id": "3ab1a7b8",
   "metadata": {},
   "outputs": [
    {
     "data": {
      "text/plain": [
       "<Arrow [2022-12-13T08:59:33.655873+00:00]>"
      ]
     },
     "execution_count": 74,
     "metadata": {},
     "output_type": "execute_result"
    }
   ],
   "source": [
    "# No inputs to get current UTC time:\n",
    "# 默认位utc00:00的时间\n",
    "arrow.get()"
   ]
  },
  {
   "cell_type": "code",
   "execution_count": 22,
   "id": "47345ecb",
   "metadata": {},
   "outputs": [
    {
     "data": {
      "text/plain": [
       "<Arrow [2022-12-13T07:46:03.748664+00:00]>"
      ]
     },
     "execution_count": 22,
     "metadata": {},
     "output_type": "execute_result"
    }
   ],
   "source": [
    "arrow.utcnow()"
   ]
  },
  {
   "cell_type": "code",
   "execution_count": 50,
   "id": "733f9489",
   "metadata": {},
   "outputs": [
    {
     "name": "stdout",
     "output_type": "stream",
     "text": [
      "2022-12-13T08:29:27.585833+00:00\n"
     ]
    }
   ],
   "source": [
    "utc = arrow.utcnow()\n",
    "print(utc)"
   ]
  },
  {
   "cell_type": "code",
   "execution_count": 52,
   "id": "6ad0d1fd",
   "metadata": {},
   "outputs": [],
   "source": [
    "local = utc.to('Asia/Shanghai')"
   ]
  },
  {
   "cell_type": "code",
   "execution_count": 53,
   "id": "163d3d2a",
   "metadata": {},
   "outputs": [
    {
     "data": {
      "text/plain": [
       "'2022-12-13 16:29:27 +08:00'"
      ]
     },
     "execution_count": 53,
     "metadata": {},
     "output_type": "execute_result"
    }
   ],
   "source": [
    "local.format('YYYY-MM-DD HH:mm:ss ZZ')"
   ]
  },
  {
   "cell_type": "code",
   "execution_count": 56,
   "id": "63c8b1a0",
   "metadata": {},
   "outputs": [
    {
     "data": {
      "text/plain": [
       "'1分钟前'"
      ]
     },
     "execution_count": 56,
     "metadata": {},
     "output_type": "execute_result"
    }
   ],
   "source": [
    "local.humanize(locale='zh')"
   ]
  },
  {
   "cell_type": "code",
   "execution_count": 77,
   "id": "4e4abd50",
   "metadata": {},
   "outputs": [
    {
     "data": {
      "text/plain": [
       "<Arrow [2022-12-13T11:01:29.287041+02:00]>"
      ]
     },
     "execution_count": 77,
     "metadata": {},
     "output_type": "execute_result"
    }
   ],
   "source": [
    "#  指定时间跨度\n",
    "arrow.now('+02:00')"
   ]
  },
  {
   "cell_type": "code",
   "execution_count": 79,
   "id": "056fff0d",
   "metadata": {},
   "outputs": [
    {
     "data": {
      "text/plain": [
       "<Arrow [2022-12-13T07:01:49.765893-02:00]>"
      ]
     },
     "execution_count": 79,
     "metadata": {},
     "output_type": "execute_result"
    }
   ],
   "source": [
    "arrow.now('-02:00')"
   ]
  },
  {
   "cell_type": "code",
   "execution_count": 80,
   "id": "d08c8aa6",
   "metadata": {},
   "outputs": [
    {
     "data": {
      "text/plain": [
       "<Arrow [2022-12-13T17:01:54.871558+08:00]>"
      ]
     },
     "execution_count": 80,
     "metadata": {},
     "output_type": "execute_result"
    }
   ],
   "source": [
    "arrow.now('local')"
   ]
  },
  {
   "cell_type": "code",
   "execution_count": 57,
   "id": "57097425",
   "metadata": {},
   "outputs": [
    {
     "data": {
      "text/plain": [
       "<Arrow [2013-05-07T04:24:24+00:00]>"
      ]
     },
     "execution_count": 57,
     "metadata": {},
     "output_type": "execute_result"
    }
   ],
   "source": [
    "arrow.get(1367900664)"
   ]
  },
  {
   "cell_type": "code",
   "execution_count": 58,
   "id": "86ba2468",
   "metadata": {},
   "outputs": [
    {
     "data": {
      "text/plain": [
       "<Arrow [2022-12-13T07:59:54.504000+00:00]>"
      ]
     },
     "execution_count": 58,
     "metadata": {},
     "output_type": "execute_result"
    }
   ],
   "source": [
    "# 自动处理13位的数据\n",
    "arrow.get(1670918394504)"
   ]
  },
  {
   "cell_type": "code",
   "execution_count": 73,
   "id": "bd6d2fe1",
   "metadata": {},
   "outputs": [
    {
     "data": {
      "text/plain": [
       "<Arrow [2022-12-13T00:58:22.031793-08:00]>"
      ]
     },
     "execution_count": 73,
     "metadata": {},
     "output_type": "execute_result"
    }
   ],
   "source": [
    "# 获取指定区域的当前时间\n",
    "arrow.now(time_zone)"
   ]
  },
  {
   "cell_type": "code",
   "execution_count": 92,
   "id": "fda9eba6",
   "metadata": {},
   "outputs": [],
   "source": [
    "aobj = arrow.get('2013-05-11T21:23:58.970460+07:00')"
   ]
  },
  {
   "cell_type": "code",
   "execution_count": 93,
   "id": "9f552b6c",
   "metadata": {},
   "outputs": [
    {
     "data": {
      "text/plain": [
       "tzoffset(None, 25200)"
      ]
     },
     "execution_count": 93,
     "metadata": {},
     "output_type": "execute_result"
    }
   ],
   "source": [
    "aobj.tzinfo"
   ]
  },
  {
   "cell_type": "code",
   "execution_count": 95,
   "id": "a707cc74",
   "metadata": {},
   "outputs": [
    {
     "data": {
      "text/plain": [
       "datetime.datetime(2013, 5, 11, 22, 23, 58, 970460, tzinfo=<DstTzInfo 'Asia/Shanghai' CST+8:00:00 STD>)"
      ]
     },
     "execution_count": 95,
     "metadata": {},
     "output_type": "execute_result"
    }
   ],
   "source": [
    "aobj.astimezone(tz=sh)"
   ]
  },
  {
   "cell_type": "code",
   "execution_count": 98,
   "id": "cc408ed8",
   "metadata": {},
   "outputs": [
    {
     "data": {
      "text/plain": [
       "<Arrow [2019-11-07T06:05:40+00:00]>"
      ]
     },
     "execution_count": 98,
     "metadata": {},
     "output_type": "execute_result"
    }
   ],
   "source": [
    "arrow.get('2019-11-07T06:05:40.000+0000')"
   ]
  },
  {
   "cell_type": "code",
   "execution_count": 109,
   "id": "5f3f5b23",
   "metadata": {},
   "outputs": [
    {
     "ename": "ParserError",
     "evalue": "Expected an ISO 8601-like string, but was given 'Sep 01 2021 03:27:05 PM'. Try passing in a format string to resolve this.",
     "output_type": "error",
     "traceback": [
      "\u001b[1;31m---------------------------------------------------------------------------\u001b[0m",
      "\u001b[1;31mParserError\u001b[0m                               Traceback (most recent call last)",
      "Input \u001b[1;32mIn [109]\u001b[0m, in \u001b[0;36m<cell line: 1>\u001b[1;34m()\u001b[0m\n\u001b[1;32m----> 1\u001b[0m \u001b[43marrow\u001b[49m\u001b[38;5;241;43m.\u001b[39;49m\u001b[43mget\u001b[49m\u001b[43m(\u001b[49m\u001b[38;5;124;43m'\u001b[39;49m\u001b[38;5;124;43mSep 01 2021 03:27:05 PM\u001b[39;49m\u001b[38;5;124;43m'\u001b[39;49m\u001b[43m)\u001b[49m\n",
      "File \u001b[1;32m~\\anaconda3\\lib\\site-packages\\arrow\\api.py:91\u001b[0m, in \u001b[0;36mget\u001b[1;34m(*args, **kwargs)\u001b[0m\n\u001b[0;32m     88\u001b[0m \u001b[38;5;28;01mdef\u001b[39;00m \u001b[38;5;21mget\u001b[39m(\u001b[38;5;241m*\u001b[39margs: Any, \u001b[38;5;241m*\u001b[39m\u001b[38;5;241m*\u001b[39mkwargs: Any) \u001b[38;5;241m-\u001b[39m\u001b[38;5;241m>\u001b[39m Arrow:\n\u001b[0;32m     89\u001b[0m     \u001b[38;5;124;03m\"\"\"Calls the default :class:`ArrowFactory <arrow.factory.ArrowFactory>` ``get`` method.\"\"\"\u001b[39;00m\n\u001b[1;32m---> 91\u001b[0m     \u001b[38;5;28;01mreturn\u001b[39;00m _factory\u001b[38;5;241m.\u001b[39mget(\u001b[38;5;241m*\u001b[39margs, \u001b[38;5;241m*\u001b[39m\u001b[38;5;241m*\u001b[39mkwargs)\n",
      "File \u001b[1;32m~\\anaconda3\\lib\\site-packages\\arrow\\factory.py:254\u001b[0m, in \u001b[0;36mArrowFactory.get\u001b[1;34m(self, *args, **kwargs)\u001b[0m\n\u001b[0;32m    252\u001b[0m \u001b[38;5;66;03m# (str) -> parse @ tzinfo\u001b[39;00m\n\u001b[0;32m    253\u001b[0m \u001b[38;5;28;01melif\u001b[39;00m \u001b[38;5;28misinstance\u001b[39m(arg, \u001b[38;5;28mstr\u001b[39m):\n\u001b[1;32m--> 254\u001b[0m     dt \u001b[38;5;241m=\u001b[39m \u001b[43mparser\u001b[49m\u001b[38;5;241;43m.\u001b[39;49m\u001b[43mDateTimeParser\u001b[49m\u001b[43m(\u001b[49m\u001b[43mlocale\u001b[49m\u001b[43m)\u001b[49m\u001b[38;5;241;43m.\u001b[39;49m\u001b[43mparse_iso\u001b[49m\u001b[43m(\u001b[49m\u001b[43marg\u001b[49m\u001b[43m,\u001b[49m\u001b[43m \u001b[49m\u001b[43mnormalize_whitespace\u001b[49m\u001b[43m)\u001b[49m\n\u001b[0;32m    255\u001b[0m     \u001b[38;5;28;01mreturn\u001b[39;00m \u001b[38;5;28mself\u001b[39m\u001b[38;5;241m.\u001b[39mtype\u001b[38;5;241m.\u001b[39mfromdatetime(dt, tzinfo\u001b[38;5;241m=\u001b[39mtz)\n\u001b[0;32m    257\u001b[0m \u001b[38;5;66;03m# (struct_time) -> from struct_time\u001b[39;00m\n",
      "File \u001b[1;32m~\\anaconda3\\lib\\site-packages\\arrow\\parser.py:208\u001b[0m, in \u001b[0;36mDateTimeParser.parse_iso\u001b[1;34m(self, datetime_string, normalize_whitespace)\u001b[0m\n\u001b[0;32m    206\u001b[0m num_spaces \u001b[38;5;241m=\u001b[39m datetime_string\u001b[38;5;241m.\u001b[39mcount(\u001b[38;5;124m\"\u001b[39m\u001b[38;5;124m \u001b[39m\u001b[38;5;124m\"\u001b[39m)\n\u001b[0;32m    207\u001b[0m \u001b[38;5;28;01mif\u001b[39;00m has_space_divider \u001b[38;5;129;01mand\u001b[39;00m num_spaces \u001b[38;5;241m!=\u001b[39m \u001b[38;5;241m1\u001b[39m \u001b[38;5;129;01mor\u001b[39;00m has_t_divider \u001b[38;5;129;01mand\u001b[39;00m num_spaces \u001b[38;5;241m>\u001b[39m \u001b[38;5;241m0\u001b[39m:\n\u001b[1;32m--> 208\u001b[0m     \u001b[38;5;28;01mraise\u001b[39;00m ParserError(\n\u001b[0;32m    209\u001b[0m         \u001b[38;5;124mf\u001b[39m\u001b[38;5;124m\"\u001b[39m\u001b[38;5;124mExpected an ISO 8601-like string, but was given \u001b[39m\u001b[38;5;132;01m{\u001b[39;00mdatetime_string\u001b[38;5;132;01m!r}\u001b[39;00m\u001b[38;5;124m. \u001b[39m\u001b[38;5;124m\"\u001b[39m\n\u001b[0;32m    210\u001b[0m         \u001b[38;5;124m\"\u001b[39m\u001b[38;5;124mTry passing in a format string to resolve this.\u001b[39m\u001b[38;5;124m\"\u001b[39m\n\u001b[0;32m    211\u001b[0m     )\n\u001b[0;32m    213\u001b[0m has_time \u001b[38;5;241m=\u001b[39m has_space_divider \u001b[38;5;129;01mor\u001b[39;00m has_t_divider\n\u001b[0;32m    214\u001b[0m has_tz \u001b[38;5;241m=\u001b[39m \u001b[38;5;28;01mFalse\u001b[39;00m\n",
      "\u001b[1;31mParserError\u001b[0m: Expected an ISO 8601-like string, but was given 'Sep 01 2021 03:27:05 PM'. Try passing in a format string to resolve this."
     ]
    }
   ],
   "source": [
    "# 并不支持非标准的解析\n",
    "arrow.get('Sep 01 2021 03:27:05 PM')"
   ]
  },
  {
   "cell_type": "markdown",
   "id": "4df42e39",
   "metadata": {},
   "source": [
    "## pytz\n",
    "\n",
    "一个时区的数据库.\n",
    "\n",
    "> pytz brings the Olson tz database into Python. This library allows accurate and cross platform timezone calculations using Python 2.4 or highe.\n",
    "\n",
    "[时区地图](https://24timezones.com/shiqu/cst_china)"
   ]
  },
  {
   "cell_type": "code",
   "execution_count": 63,
   "id": "1cee22e0",
   "metadata": {},
   "outputs": [
    {
     "name": "stdout",
     "output_type": "stream",
     "text": [
      "['Africa/Abidjan',\n",
      " 'Africa/Accra',\n",
      " 'Africa/Addis_Ababa',\n",
      " 'Africa/Algiers',\n",
      " 'Africa/Asmara',\n",
      " 'Africa/Asmera',\n",
      " 'Africa/Bamako',\n",
      " 'Africa/Bangui',\n",
      " 'Africa/Banjul',\n",
      " 'Africa/Bissau',\n",
      " 'Africa/Blantyre',\n",
      " 'Africa/Brazzaville',\n",
      " 'Africa/Bujumbura',\n",
      " 'Africa/Cairo',\n",
      " 'Africa/Casablanca',\n",
      " 'Africa/Ceuta',\n",
      " 'Africa/Conakry',\n",
      " 'Africa/Dakar',\n",
      " 'Africa/Dar_es_Salaam',\n",
      " 'Africa/Djibouti',\n",
      " 'Africa/Douala',\n",
      " 'Africa/El_Aaiun',\n",
      " 'Africa/Freetown',\n",
      " 'Africa/Gaborone',\n",
      " 'Africa/Harare',\n",
      " 'Africa/Johannesburg',\n",
      " 'Africa/Juba',\n",
      " 'Africa/Kampala',\n",
      " 'Africa/Khartoum',\n",
      " 'Africa/Kigali',\n",
      " 'Africa/Kinshasa',\n",
      " 'Africa/Lagos',\n",
      " 'Africa/Libreville',\n",
      " 'Africa/Lome',\n",
      " 'Africa/Luanda',\n",
      " 'Africa/Lubumbashi',\n",
      " 'Africa/Lusaka',\n",
      " 'Africa/Malabo',\n",
      " 'Africa/Maputo',\n",
      " 'Africa/Maseru',\n",
      " 'Africa/Mbabane',\n",
      " 'Africa/Mogadishu',\n",
      " 'Africa/Monrovia',\n",
      " 'Africa/Nairobi',\n",
      " 'Africa/Ndjamena',\n",
      " 'Africa/Niamey',\n",
      " 'Africa/Nouakchott',\n",
      " 'Africa/Ouagadougou',\n",
      " 'Africa/Porto-Novo',\n",
      " 'Africa/Sao_Tome',\n",
      " 'Africa/Timbuktu',\n",
      " 'Africa/Tripoli',\n",
      " 'Africa/Tunis',\n",
      " 'Africa/Windhoek',\n",
      " 'America/Adak',\n",
      " 'America/Anchorage',\n",
      " 'America/Anguilla',\n",
      " 'America/Antigua',\n",
      " 'America/Araguaina',\n",
      " 'America/Argentina/Buenos_Aires',\n",
      " 'America/Argentina/Catamarca',\n",
      " 'America/Argentina/ComodRivadavia',\n",
      " 'America/Argentina/Cordoba',\n",
      " 'America/Argentina/Jujuy',\n",
      " 'America/Argentina/La_Rioja',\n",
      " 'America/Argentina/Mendoza',\n",
      " 'America/Argentina/Rio_Gallegos',\n",
      " 'America/Argentina/Salta',\n",
      " 'America/Argentina/San_Juan',\n",
      " 'America/Argentina/San_Luis',\n",
      " 'America/Argentina/Tucuman',\n",
      " 'America/Argentina/Ushuaia',\n",
      " 'America/Aruba',\n",
      " 'America/Asuncion',\n",
      " 'America/Atikokan',\n",
      " 'America/Atka',\n",
      " 'America/Bahia',\n",
      " 'America/Bahia_Banderas',\n",
      " 'America/Barbados',\n",
      " 'America/Belem',\n",
      " 'America/Belize',\n",
      " 'America/Blanc-Sablon',\n",
      " 'America/Boa_Vista',\n",
      " 'America/Bogota',\n",
      " 'America/Boise',\n",
      " 'America/Buenos_Aires',\n",
      " 'America/Cambridge_Bay',\n",
      " 'America/Campo_Grande',\n",
      " 'America/Cancun',\n",
      " 'America/Caracas',\n",
      " 'America/Catamarca',\n",
      " 'America/Cayenne',\n",
      " 'America/Cayman',\n",
      " 'America/Chicago',\n",
      " 'America/Chihuahua',\n",
      " 'America/Coral_Harbour',\n",
      " 'America/Cordoba',\n",
      " 'America/Costa_Rica',\n",
      " 'America/Creston',\n",
      " 'America/Cuiaba',\n",
      " 'America/Curacao',\n",
      " 'America/Danmarkshavn',\n",
      " 'America/Dawson',\n",
      " 'America/Dawson_Creek',\n",
      " 'America/Denver',\n",
      " 'America/Detroit',\n",
      " 'America/Dominica',\n",
      " 'America/Edmonton',\n",
      " 'America/Eirunepe',\n",
      " 'America/El_Salvador',\n",
      " 'America/Ensenada',\n",
      " 'America/Fort_Nelson',\n",
      " 'America/Fort_Wayne',\n",
      " 'America/Fortaleza',\n",
      " 'America/Glace_Bay',\n",
      " 'America/Godthab',\n",
      " 'America/Goose_Bay',\n",
      " 'America/Grand_Turk',\n",
      " 'America/Grenada',\n",
      " 'America/Guadeloupe',\n",
      " 'America/Guatemala',\n",
      " 'America/Guayaquil',\n",
      " 'America/Guyana',\n",
      " 'America/Halifax',\n",
      " 'America/Havana',\n",
      " 'America/Hermosillo',\n",
      " 'America/Indiana/Indianapolis',\n",
      " 'America/Indiana/Knox',\n",
      " 'America/Indiana/Marengo',\n",
      " 'America/Indiana/Petersburg',\n",
      " 'America/Indiana/Tell_City',\n",
      " 'America/Indiana/Vevay',\n",
      " 'America/Indiana/Vincennes',\n",
      " 'America/Indiana/Winamac',\n",
      " 'America/Indianapolis',\n",
      " 'America/Inuvik',\n",
      " 'America/Iqaluit',\n",
      " 'America/Jamaica',\n",
      " 'America/Jujuy',\n",
      " 'America/Juneau',\n",
      " 'America/Kentucky/Louisville',\n",
      " 'America/Kentucky/Monticello',\n",
      " 'America/Knox_IN',\n",
      " 'America/Kralendijk',\n",
      " 'America/La_Paz',\n",
      " 'America/Lima',\n",
      " 'America/Los_Angeles',\n",
      " 'America/Louisville',\n",
      " 'America/Lower_Princes',\n",
      " 'America/Maceio',\n",
      " 'America/Managua',\n",
      " 'America/Manaus',\n",
      " 'America/Marigot',\n",
      " 'America/Martinique',\n",
      " 'America/Matamoros',\n",
      " 'America/Mazatlan',\n",
      " 'America/Mendoza',\n",
      " 'America/Menominee',\n",
      " 'America/Merida',\n",
      " 'America/Metlakatla',\n",
      " 'America/Mexico_City',\n",
      " 'America/Miquelon',\n",
      " 'America/Moncton',\n",
      " 'America/Monterrey',\n",
      " 'America/Montevideo',\n",
      " 'America/Montreal',\n",
      " 'America/Montserrat',\n",
      " 'America/Nassau',\n",
      " 'America/New_York',\n",
      " 'America/Nipigon',\n",
      " 'America/Nome',\n",
      " 'America/Noronha',\n",
      " 'America/North_Dakota/Beulah',\n",
      " 'America/North_Dakota/Center',\n",
      " 'America/North_Dakota/New_Salem',\n",
      " 'America/Nuuk',\n",
      " 'America/Ojinaga',\n",
      " 'America/Panama',\n",
      " 'America/Pangnirtung',\n",
      " 'America/Paramaribo',\n",
      " 'America/Phoenix',\n",
      " 'America/Port-au-Prince',\n",
      " 'America/Port_of_Spain',\n",
      " 'America/Porto_Acre',\n",
      " 'America/Porto_Velho',\n",
      " 'America/Puerto_Rico',\n",
      " 'America/Punta_Arenas',\n",
      " 'America/Rainy_River',\n",
      " 'America/Rankin_Inlet',\n",
      " 'America/Recife',\n",
      " 'America/Regina',\n",
      " 'America/Resolute',\n",
      " 'America/Rio_Branco',\n",
      " 'America/Rosario',\n",
      " 'America/Santa_Isabel',\n",
      " 'America/Santarem',\n",
      " 'America/Santiago',\n",
      " 'America/Santo_Domingo',\n",
      " 'America/Sao_Paulo',\n",
      " 'America/Scoresbysund',\n",
      " 'America/Shiprock',\n",
      " 'America/Sitka',\n",
      " 'America/St_Barthelemy',\n",
      " 'America/St_Johns',\n",
      " 'America/St_Kitts',\n",
      " 'America/St_Lucia',\n",
      " 'America/St_Thomas',\n",
      " 'America/St_Vincent',\n",
      " 'America/Swift_Current',\n",
      " 'America/Tegucigalpa',\n",
      " 'America/Thule',\n",
      " 'America/Thunder_Bay',\n",
      " 'America/Tijuana',\n",
      " 'America/Toronto',\n",
      " 'America/Tortola',\n",
      " 'America/Vancouver',\n",
      " 'America/Virgin',\n",
      " 'America/Whitehorse',\n",
      " 'America/Winnipeg',\n",
      " 'America/Yakutat',\n",
      " 'America/Yellowknife',\n",
      " 'Antarctica/Casey',\n",
      " 'Antarctica/Davis',\n",
      " 'Antarctica/DumontDUrville',\n",
      " 'Antarctica/Macquarie',\n",
      " 'Antarctica/Mawson',\n",
      " 'Antarctica/McMurdo',\n",
      " 'Antarctica/Palmer',\n",
      " 'Antarctica/Rothera',\n",
      " 'Antarctica/South_Pole',\n",
      " 'Antarctica/Syowa',\n",
      " 'Antarctica/Troll',\n",
      " 'Antarctica/Vostok',\n",
      " 'Arctic/Longyearbyen',\n",
      " 'Asia/Aden',\n",
      " 'Asia/Almaty',\n",
      " 'Asia/Amman',\n",
      " 'Asia/Anadyr',\n",
      " 'Asia/Aqtau',\n",
      " 'Asia/Aqtobe',\n",
      " 'Asia/Ashgabat',\n",
      " 'Asia/Ashkhabad',\n",
      " 'Asia/Atyrau',\n",
      " 'Asia/Baghdad',\n",
      " 'Asia/Bahrain',\n",
      " 'Asia/Baku',\n",
      " 'Asia/Bangkok',\n",
      " 'Asia/Barnaul',\n",
      " 'Asia/Beirut',\n",
      " 'Asia/Bishkek',\n",
      " 'Asia/Brunei',\n",
      " 'Asia/Calcutta',\n",
      " 'Asia/Chita',\n",
      " 'Asia/Choibalsan',\n",
      " 'Asia/Chongqing',\n",
      " 'Asia/Chungking',\n",
      " 'Asia/Colombo',\n",
      " 'Asia/Dacca',\n",
      " 'Asia/Damascus',\n",
      " 'Asia/Dhaka',\n",
      " 'Asia/Dili',\n",
      " 'Asia/Dubai',\n",
      " 'Asia/Dushanbe',\n",
      " 'Asia/Famagusta',\n",
      " 'Asia/Gaza',\n",
      " 'Asia/Harbin',\n",
      " 'Asia/Hebron',\n",
      " 'Asia/Ho_Chi_Minh',\n",
      " 'Asia/Hong_Kong',\n",
      " 'Asia/Hovd',\n",
      " 'Asia/Irkutsk',\n",
      " 'Asia/Istanbul',\n",
      " 'Asia/Jakarta',\n",
      " 'Asia/Jayapura',\n",
      " 'Asia/Jerusalem',\n",
      " 'Asia/Kabul',\n",
      " 'Asia/Kamchatka',\n",
      " 'Asia/Karachi',\n",
      " 'Asia/Kashgar',\n",
      " 'Asia/Kathmandu',\n",
      " 'Asia/Katmandu',\n",
      " 'Asia/Khandyga',\n",
      " 'Asia/Kolkata',\n",
      " 'Asia/Krasnoyarsk',\n",
      " 'Asia/Kuala_Lumpur',\n",
      " 'Asia/Kuching',\n",
      " 'Asia/Kuwait',\n",
      " 'Asia/Macao',\n",
      " 'Asia/Macau',\n",
      " 'Asia/Magadan',\n",
      " 'Asia/Makassar',\n",
      " 'Asia/Manila',\n",
      " 'Asia/Muscat',\n",
      " 'Asia/Nicosia',\n",
      " 'Asia/Novokuznetsk',\n",
      " 'Asia/Novosibirsk',\n",
      " 'Asia/Omsk',\n",
      " 'Asia/Oral',\n",
      " 'Asia/Phnom_Penh',\n",
      " 'Asia/Pontianak',\n",
      " 'Asia/Pyongyang',\n",
      " 'Asia/Qatar',\n",
      " 'Asia/Qostanay',\n",
      " 'Asia/Qyzylorda',\n",
      " 'Asia/Rangoon',\n",
      " 'Asia/Riyadh',\n",
      " 'Asia/Saigon',\n",
      " 'Asia/Sakhalin',\n",
      " 'Asia/Samarkand',\n",
      " 'Asia/Seoul',\n",
      " 'Asia/Shanghai',\n",
      " 'Asia/Singapore',\n",
      " 'Asia/Srednekolymsk',\n",
      " 'Asia/Taipei',\n",
      " 'Asia/Tashkent',\n",
      " 'Asia/Tbilisi',\n",
      " 'Asia/Tehran',\n",
      " 'Asia/Tel_Aviv',\n",
      " 'Asia/Thimbu',\n",
      " 'Asia/Thimphu',\n",
      " 'Asia/Tokyo',\n",
      " 'Asia/Tomsk',\n",
      " 'Asia/Ujung_Pandang',\n",
      " 'Asia/Ulaanbaatar',\n",
      " 'Asia/Ulan_Bator',\n",
      " 'Asia/Urumqi',\n",
      " 'Asia/Ust-Nera',\n",
      " 'Asia/Vientiane',\n",
      " 'Asia/Vladivostok',\n",
      " 'Asia/Yakutsk',\n",
      " 'Asia/Yangon',\n",
      " 'Asia/Yekaterinburg',\n",
      " 'Asia/Yerevan',\n",
      " 'Atlantic/Azores',\n",
      " 'Atlantic/Bermuda',\n",
      " 'Atlantic/Canary',\n",
      " 'Atlantic/Cape_Verde',\n",
      " 'Atlantic/Faeroe',\n",
      " 'Atlantic/Faroe',\n",
      " 'Atlantic/Jan_Mayen',\n",
      " 'Atlantic/Madeira',\n",
      " 'Atlantic/Reykjavik',\n",
      " 'Atlantic/South_Georgia',\n",
      " 'Atlantic/St_Helena',\n",
      " 'Atlantic/Stanley',\n",
      " 'Australia/ACT',\n",
      " 'Australia/Adelaide',\n",
      " 'Australia/Brisbane',\n",
      " 'Australia/Broken_Hill',\n",
      " 'Australia/Canberra',\n",
      " 'Australia/Currie',\n",
      " 'Australia/Darwin',\n",
      " 'Australia/Eucla',\n",
      " 'Australia/Hobart',\n",
      " 'Australia/LHI',\n",
      " 'Australia/Lindeman',\n",
      " 'Australia/Lord_Howe',\n",
      " 'Australia/Melbourne',\n",
      " 'Australia/NSW',\n",
      " 'Australia/North',\n",
      " 'Australia/Perth',\n",
      " 'Australia/Queensland',\n",
      " 'Australia/South',\n",
      " 'Australia/Sydney',\n",
      " 'Australia/Tasmania',\n",
      " 'Australia/Victoria',\n",
      " 'Australia/West',\n",
      " 'Australia/Yancowinna',\n",
      " 'Brazil/Acre',\n",
      " 'Brazil/DeNoronha',\n",
      " 'Brazil/East',\n",
      " 'Brazil/West',\n",
      " 'CET',\n",
      " 'CST6CDT',\n",
      " 'Canada/Atlantic',\n",
      " 'Canada/Central',\n",
      " 'Canada/Eastern',\n",
      " 'Canada/Mountain',\n",
      " 'Canada/Newfoundland',\n",
      " 'Canada/Pacific',\n",
      " 'Canada/Saskatchewan',\n",
      " 'Canada/Yukon',\n",
      " 'Chile/Continental',\n",
      " 'Chile/EasterIsland',\n",
      " 'Cuba',\n",
      " 'EET',\n",
      " 'EST',\n",
      " 'EST5EDT',\n",
      " 'Egypt',\n",
      " 'Eire',\n",
      " 'Etc/GMT',\n",
      " 'Etc/GMT+0',\n",
      " 'Etc/GMT+1',\n",
      " 'Etc/GMT+10',\n",
      " 'Etc/GMT+11',\n",
      " 'Etc/GMT+12',\n",
      " 'Etc/GMT+2',\n",
      " 'Etc/GMT+3',\n",
      " 'Etc/GMT+4',\n",
      " 'Etc/GMT+5',\n",
      " 'Etc/GMT+6',\n",
      " 'Etc/GMT+7',\n",
      " 'Etc/GMT+8',\n",
      " 'Etc/GMT+9',\n",
      " 'Etc/GMT-0',\n",
      " 'Etc/GMT-1',\n",
      " 'Etc/GMT-10',\n",
      " 'Etc/GMT-11',\n",
      " 'Etc/GMT-12',\n",
      " 'Etc/GMT-13',\n",
      " 'Etc/GMT-14',\n",
      " 'Etc/GMT-2',\n",
      " 'Etc/GMT-3',\n",
      " 'Etc/GMT-4',\n",
      " 'Etc/GMT-5',\n",
      " 'Etc/GMT-6',\n",
      " 'Etc/GMT-7',\n",
      " 'Etc/GMT-8',\n",
      " 'Etc/GMT-9',\n",
      " 'Etc/GMT0',\n",
      " 'Etc/Greenwich',\n",
      " 'Etc/UCT',\n",
      " 'Etc/UTC',\n",
      " 'Etc/Universal',\n",
      " 'Etc/Zulu',\n",
      " 'Europe/Amsterdam',\n",
      " 'Europe/Andorra',\n",
      " 'Europe/Astrakhan',\n",
      " 'Europe/Athens',\n",
      " 'Europe/Belfast',\n",
      " 'Europe/Belgrade',\n",
      " 'Europe/Berlin',\n",
      " 'Europe/Bratislava',\n",
      " 'Europe/Brussels',\n",
      " 'Europe/Bucharest',\n",
      " 'Europe/Budapest',\n",
      " 'Europe/Busingen',\n",
      " 'Europe/Chisinau',\n",
      " 'Europe/Copenhagen',\n",
      " 'Europe/Dublin',\n",
      " 'Europe/Gibraltar',\n",
      " 'Europe/Guernsey',\n",
      " 'Europe/Helsinki',\n",
      " 'Europe/Isle_of_Man',\n",
      " 'Europe/Istanbul',\n",
      " 'Europe/Jersey',\n",
      " 'Europe/Kaliningrad',\n",
      " 'Europe/Kiev',\n",
      " 'Europe/Kirov',\n",
      " 'Europe/Lisbon',\n",
      " 'Europe/Ljubljana',\n",
      " 'Europe/London',\n",
      " 'Europe/Luxembourg',\n",
      " 'Europe/Madrid',\n",
      " 'Europe/Malta',\n",
      " 'Europe/Mariehamn',\n",
      " 'Europe/Minsk',\n",
      " 'Europe/Monaco',\n",
      " 'Europe/Moscow',\n",
      " 'Europe/Nicosia',\n",
      " 'Europe/Oslo',\n",
      " 'Europe/Paris',\n",
      " 'Europe/Podgorica',\n",
      " 'Europe/Prague',\n",
      " 'Europe/Riga',\n",
      " 'Europe/Rome',\n",
      " 'Europe/Samara',\n",
      " 'Europe/San_Marino',\n",
      " 'Europe/Sarajevo',\n",
      " 'Europe/Saratov',\n",
      " 'Europe/Simferopol',\n",
      " 'Europe/Skopje',\n",
      " 'Europe/Sofia',\n",
      " 'Europe/Stockholm',\n",
      " 'Europe/Tallinn',\n",
      " 'Europe/Tirane',\n",
      " 'Europe/Tiraspol',\n",
      " 'Europe/Ulyanovsk',\n",
      " 'Europe/Uzhgorod',\n",
      " 'Europe/Vaduz',\n",
      " 'Europe/Vatican',\n",
      " 'Europe/Vienna',\n",
      " 'Europe/Vilnius',\n",
      " 'Europe/Volgograd',\n",
      " 'Europe/Warsaw',\n",
      " 'Europe/Zagreb',\n",
      " 'Europe/Zaporozhye',\n",
      " 'Europe/Zurich',\n",
      " 'GB',\n",
      " 'GB-Eire',\n",
      " 'GMT',\n",
      " 'GMT+0',\n",
      " 'GMT-0',\n",
      " 'GMT0',\n",
      " 'Greenwich',\n",
      " 'HST',\n",
      " 'Hongkong',\n",
      " 'Iceland',\n",
      " 'Indian/Antananarivo',\n",
      " 'Indian/Chagos',\n",
      " 'Indian/Christmas',\n",
      " 'Indian/Cocos',\n",
      " 'Indian/Comoro',\n",
      " 'Indian/Kerguelen',\n",
      " 'Indian/Mahe',\n",
      " 'Indian/Maldives',\n",
      " 'Indian/Mauritius',\n",
      " 'Indian/Mayotte',\n",
      " 'Indian/Reunion',\n",
      " 'Iran',\n",
      " 'Israel',\n",
      " 'Jamaica',\n",
      " 'Japan',\n",
      " 'Kwajalein',\n",
      " 'Libya',\n",
      " 'MET',\n",
      " 'MST',\n",
      " 'MST7MDT',\n",
      " 'Mexico/BajaNorte',\n",
      " 'Mexico/BajaSur',\n",
      " 'Mexico/General',\n",
      " 'NZ',\n",
      " 'NZ-CHAT',\n",
      " 'Navajo',\n",
      " 'PRC',\n",
      " 'PST8PDT',\n",
      " 'Pacific/Apia',\n",
      " 'Pacific/Auckland',\n",
      " 'Pacific/Bougainville',\n",
      " 'Pacific/Chatham',\n",
      " 'Pacific/Chuuk',\n",
      " 'Pacific/Easter',\n",
      " 'Pacific/Efate',\n",
      " 'Pacific/Enderbury',\n",
      " 'Pacific/Fakaofo',\n",
      " 'Pacific/Fiji',\n",
      " 'Pacific/Funafuti',\n",
      " 'Pacific/Galapagos',\n",
      " 'Pacific/Gambier',\n",
      " 'Pacific/Guadalcanal',\n",
      " 'Pacific/Guam',\n",
      " 'Pacific/Honolulu',\n",
      " 'Pacific/Johnston',\n",
      " 'Pacific/Kanton',\n",
      " 'Pacific/Kiritimati',\n",
      " 'Pacific/Kosrae',\n",
      " 'Pacific/Kwajalein',\n",
      " 'Pacific/Majuro',\n",
      " 'Pacific/Marquesas',\n",
      " 'Pacific/Midway',\n",
      " 'Pacific/Nauru',\n",
      " 'Pacific/Niue',\n",
      " 'Pacific/Norfolk',\n",
      " 'Pacific/Noumea',\n",
      " 'Pacific/Pago_Pago',\n",
      " 'Pacific/Palau',\n",
      " 'Pacific/Pitcairn',\n",
      " 'Pacific/Pohnpei',\n",
      " 'Pacific/Ponape',\n",
      " 'Pacific/Port_Moresby',\n",
      " 'Pacific/Rarotonga',\n",
      " 'Pacific/Saipan',\n",
      " 'Pacific/Samoa',\n",
      " 'Pacific/Tahiti',\n",
      " 'Pacific/Tarawa',\n",
      " 'Pacific/Tongatapu',\n",
      " 'Pacific/Truk',\n",
      " 'Pacific/Wake',\n",
      " 'Pacific/Wallis',\n",
      " 'Pacific/Yap',\n",
      " 'Poland',\n",
      " 'Portugal',\n",
      " 'ROC',\n",
      " 'ROK',\n",
      " 'Singapore',\n",
      " 'Turkey',\n",
      " 'UCT',\n",
      " 'US/Alaska',\n",
      " 'US/Aleutian',\n",
      " 'US/Arizona',\n",
      " 'US/Central',\n",
      " 'US/East-Indiana',\n",
      " 'US/Eastern',\n",
      " 'US/Hawaii',\n",
      " 'US/Indiana-Starke',\n",
      " 'US/Michigan',\n",
      " 'US/Mountain',\n",
      " 'US/Pacific',\n",
      " 'US/Samoa',\n",
      " 'UTC',\n",
      " 'Universal',\n",
      " 'W-SU',\n",
      " 'WET',\n",
      " 'Zulu']\n"
     ]
    }
   ],
   "source": [
    "pprint(pytz.all_timezones)"
   ]
  },
  {
   "cell_type": "markdown",
   "id": "053a8fe3",
   "metadata": {},
   "source": [
    "## dateutil"
   ]
  },
  {
   "cell_type": "markdown",
   "id": "93219704",
   "metadata": {},
   "source": [
    "parser.parse(parserinfo=None, **kwargs)[source]\n",
    "Parse a string in one of the supported formats, using the parserinfo parameters.\n",
    "\n",
    "Parameters:\t\n",
    "\n",
    "    timestr – A string containing a date/time stamp.\n",
    "\n",
    "    parserinfo – A parserinfo object containing parameters for the parser. If None, the default arguments to the parserinfo constructor are used.\n",
    "\n",
    "The **kwargs parameter takes the following keyword arguments:\n",
    "\n",
    "    Parameters:\t\n",
    "    default – The default datetime object, if this is a datetime object and not None, elements specified in timestr replace elements in the default object.\n",
    "\n",
    "    ignoretz – If set True, time zones in parsed strings are ignored and a naive datetime object is returned.\n",
    "\n",
    "    tzinfos –\n",
    "    Additional time zone names / aliases which may be present in the string. This argument maps time zone names (and optionally offsets from those time zones) to time zones. This parameter can be a dictionary with timezone aliases mapping time zone names to time zones or a function taking two parameters (tzname and tzoffset) and returning a time zone.\n",
    "\n",
    "    The timezones to which the names are mapped can be an integer offset from UTC in seconds or a tzinfo object.\n",
    "\n",
    "    dayfirst – Whether to interpret the first value in an ambiguous 3-integer date (e.g. 01/05/09) as the day (True) or month (False). If yearfirst is set to True, this distinguishes between YDM and YMD. If set to None, this value is retrieved from the current parserinfo object (which itself defaults to False).\n",
    "    \n",
    "    yearfirst – Whether to interpret the first value in an ambiguous 3-integer date (e.g. 01/05/09) as the year. If True, the first number is taken to be the year, otherwise the last number is taken to be the year. If this is set to None, the value is retrieved from the current parserinfo object (which itself defaults to False).\n",
    "    \n",
    "    fuzzy – Whether to allow fuzzy parsing, allowing for string like “Today is January 1, 2047 at 8:21:00AM”.\n",
    "    \n",
    "    fuzzy_with_tokens –\n",
    "    If True, fuzzy is automatically set to True, and the parser will return a tuple where the first element is the parsed datetime.datetime datetimestamp and the second element is a tuple containing the portions of the string which were ignored:\n",
    "\n",
    "Returns:\n",
    "\n",
    "    Returns a datetime.datetime object or, if the fuzzy_with_tokens option is True, returns a tuple, the first element being a datetime.datetime object, the second a tuple containing the fuzzy tokens.\n",
    "\n",
    "Raises:\t\n",
    "\n",
    "    ParserError – Raised for invalid or unknown string formats, if the provided tzinfo is not in a valid format, or if an invalid date would be created.\n",
    "    OverflowError – Raised if the parsed date exceeds the largest valid C integer on your system."
   ]
  },
  {
   "cell_type": "markdown",
   "id": "a05aaed6",
   "metadata": {},
   "source": [
    "```bash\n",
    "     >>> from dateutil.parser import parse\n",
    "     \n",
    "     >>> from dateutil.tz import gettz\n",
    "     \n",
    "     >>> tzinfos = {\"BRST\": -7200, \"CST\": gettz(\"America/Chicago\")}\n",
    "     \n",
    "     >>> parse(\"2012-01-19 17:21:00 BRST\", tzinfos=tzinfos)\n",
    "     \n",
    "     datetime.datetime(2012, 1, 19, 17, 21, tzinfo=tzoffset(u'BRST', -7200))\n",
    "     \n",
    "     >>> parse(\"2012-01-19 17:21:00 CST\", tzinfos=tzinfos)\n",
    "     \n",
    "     datetime.datetime(2012, 1, 19, 17, 21,\n",
    "                       tzinfo=tzfile('/usr/share/zoneinfo/America/Chicago'))\n",
    "                       \n",
    "    This parameter is ignored if ignoretz is set.\n",
    "    \n",
    "    >>> from dateutil.parser import parse\n",
    "    \n",
    "    >>> parse(\"Today is January 1, 2047 at 8:21:00AM\", fuzzy_with_tokens=True)\n",
    "    \n",
    "    (datetime.datetime(2047, 1, 1, 8, 21), (u'Today is ', u' ', u'at '))\n",
    "```bash"
   ]
  },
  {
   "cell_type": "markdown",
   "id": "33ea55cb",
   "metadata": {},
   "source": [
    "**parser非常强大, 可以处理多种不同格式的时间字符串**"
   ]
  },
  {
   "cell_type": "code",
   "execution_count": 65,
   "id": "219e40b5",
   "metadata": {},
   "outputs": [],
   "source": [
    "time_zone = 'US/Pacific'\n",
    "s_time = '2022-11-06 01:16:21 AM PST'"
   ]
  },
  {
   "cell_type": "code",
   "execution_count": 66,
   "id": "3d94f73a",
   "metadata": {},
   "outputs": [],
   "source": [
    "tz_dict = {'PST': tz.gettz(time_zone)}"
   ]
  },
  {
   "cell_type": "code",
   "execution_count": 67,
   "id": "b8312a0b",
   "metadata": {},
   "outputs": [],
   "source": [
    "d = parser.parse(s_time, tzinfos=tz_dict)"
   ]
  },
  {
   "cell_type": "code",
   "execution_count": 68,
   "id": "4b22c75a",
   "metadata": {},
   "outputs": [
    {
     "data": {
      "text/plain": [
       "datetime.datetime(2022, 11, 6, 17, 16, 21)"
      ]
     },
     "execution_count": 68,
     "metadata": {},
     "output_type": "execute_result"
    }
   ],
   "source": [
    "d.astimezone(tz=timezone('Asia/Shanghai')).replace(tzinfo=None)"
   ]
  },
  {
   "cell_type": "code",
   "execution_count": 69,
   "id": "49cc37d9",
   "metadata": {},
   "outputs": [
    {
     "data": {
      "text/plain": [
       "datetime.datetime(2022, 11, 1, 0, 0)"
      ]
     },
     "execution_count": 69,
     "metadata": {},
     "output_type": "execute_result"
    }
   ],
   "source": [
    "# 解析时间\n",
    "parser.parse('November 1')"
   ]
  },
  {
   "cell_type": "code",
   "execution_count": 70,
   "id": "5ecfcf6e",
   "metadata": {},
   "outputs": [
    {
     "data": {
      "text/plain": [
       "datetime.datetime(2022, 11, 1, 0, 0)"
      ]
     },
     "execution_count": 70,
     "metadata": {},
     "output_type": "execute_result"
    }
   ],
   "source": [
    "# 月份仅支持英文, 包含缩写\n",
    "parser.parse('nov 1')"
   ]
  },
  {
   "cell_type": "code",
   "execution_count": 71,
   "id": "f3a12579",
   "metadata": {},
   "outputs": [
    {
     "data": {
      "text/plain": [
       "datetime.datetime(2011, 11, 1, 0, 0)"
      ]
     },
     "execution_count": 71,
     "metadata": {},
     "output_type": "execute_result"
    }
   ],
   "source": [
    "# 这个解析器集成了响应的解析规则\n",
    "parser.parse('nov 1 2011')"
   ]
  },
  {
   "cell_type": "code",
   "execution_count": 72,
   "id": "02371f40",
   "metadata": {},
   "outputs": [
    {
     "data": {
      "text/plain": [
       "datetime.datetime(2011, 11, 1, 0, 0)"
      ]
     },
     "execution_count": 72,
     "metadata": {},
     "output_type": "execute_result"
    }
   ],
   "source": [
    "parser.parse('11.1.2011')"
   ]
  },
  {
   "cell_type": "markdown",
   "id": "df47480d",
   "metadata": {},
   "source": [
    "注意一些非规则的解析\n",
    "参数\n",
    "- dayfirst\n",
    "- yearfirst\n",
    "\n",
    "[parse](https://dateutil.readthedocs.io/en/stable/parser.html#dateutil.parser.parserinfo)"
   ]
  },
  {
   "cell_type": "code",
   "execution_count": 110,
   "id": "490802a9",
   "metadata": {},
   "outputs": [
    {
     "data": {
      "text/plain": [
       "datetime.datetime(2021, 9, 1, 15, 27, 5)"
      ]
     },
     "execution_count": 110,
     "metadata": {},
     "output_type": "execute_result"
    }
   ],
   "source": [
    "parser.parse('Sep 01 2021 03:27:05 PM')"
   ]
  },
  {
   "cell_type": "code",
   "execution_count": 111,
   "id": "9886ef1a",
   "metadata": {},
   "outputs": [
    {
     "data": {
      "text/plain": [
       "datetime.datetime(2017, 1, 13, 11, 29, 22, 601991, tzinfo=tzoffset(None, -18000))"
      ]
     },
     "execution_count": 111,
     "metadata": {},
     "output_type": "execute_result"
    }
   ],
   "source": [
    "parser.parse('2017-01-13T11:29:22.601991-05:00')"
   ]
  },
  {
   "cell_type": "code",
   "execution_count": 114,
   "id": "c94e6ea7",
   "metadata": {},
   "outputs": [
    {
     "data": {
      "text/plain": [
       "datetime.datetime(2017, 5, 8, 6, 21, 7, tzinfo=tzutc())"
      ]
     },
     "execution_count": 114,
     "metadata": {},
     "output_type": "execute_result"
    }
   ],
   "source": [
    "parser.parse('Mon, 08 May 2017 06:21:07 AM GMT')"
   ]
  },
  {
   "cell_type": "code",
   "execution_count": null,
   "id": "cbbbd246",
   "metadata": {},
   "outputs": [],
   "source": []
  },
  {
   "cell_type": "code",
   "execution_count": null,
   "id": "21e9e6d6",
   "metadata": {},
   "outputs": [],
   "source": []
  }
 ],
 "metadata": {
  "kernelspec": {
   "display_name": "Python 3 (ipykernel)",
   "language": "python",
   "name": "python3"
  },
  "language_info": {
   "codemirror_mode": {
    "name": "ipython",
    "version": 3
   },
   "file_extension": ".py",
   "mimetype": "text/x-python",
   "name": "python",
   "nbconvert_exporter": "python",
   "pygments_lexer": "ipython3",
   "version": "3.9.12"
  }
 },
 "nbformat": 4,
 "nbformat_minor": 5
}
